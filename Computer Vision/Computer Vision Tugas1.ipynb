{
 "cells": [
  {
   "cell_type": "code",
   "execution_count": 1,
   "id": "616d0c0b-e4ff-4c11-b08c-4fa02d43cf12",
   "metadata": {},
   "outputs": [
    {
     "name": "stderr",
     "output_type": "stream",
     "text": [
      "<>:4: SyntaxWarning: invalid escape sequence '\\V'\n",
      "<>:5: SyntaxWarning: invalid escape sequence '\\V'\n",
      "<>:6: SyntaxWarning: invalid escape sequence '\\V'\n",
      "<>:4: SyntaxWarning: invalid escape sequence '\\V'\n",
      "<>:5: SyntaxWarning: invalid escape sequence '\\V'\n",
      "<>:6: SyntaxWarning: invalid escape sequence '\\V'\n",
      "C:\\Users\\Lenovo\\AppData\\Local\\Temp\\ipykernel_153088\\2914719801.py:4: SyntaxWarning: invalid escape sequence '\\V'\n",
      "  path = 'C:\\VSCODE\\Asset\\ll_gray.bmp'\n",
      "C:\\Users\\Lenovo\\AppData\\Local\\Temp\\ipykernel_153088\\2914719801.py:5: SyntaxWarning: invalid escape sequence '\\V'\n",
      "  path2 = 'C:\\VSCODE\\Asset\\ll_gray_png.png'\n",
      "C:\\Users\\Lenovo\\AppData\\Local\\Temp\\ipykernel_153088\\2914719801.py:6: SyntaxWarning: invalid escape sequence '\\V'\n",
      "  path3 = 'C:\\VSCODE\\Asset\\est.bmp'\n"
     ]
    },
    {
     "name": "stdout",
     "output_type": "stream",
     "text": [
      "(408, 612, 3)\n",
      "[[[ 37  31 238]\n",
      "  [ 37  31 238]\n",
      "  [ 37  31 238]\n",
      "  ...\n",
      "  [ 37  31 238]\n",
      "  [ 37  31 238]\n",
      "  [ 37  31 238]]\n",
      "\n",
      " [[ 37  31 238]\n",
      "  [ 37  31 238]\n",
      "  [ 37  31 238]\n",
      "  ...\n",
      "  [ 37  31 238]\n",
      "  [ 37  31 238]\n",
      "  [ 37  31 238]]\n",
      "\n",
      " [[ 37  31 238]\n",
      "  [ 37  31 238]\n",
      "  [ 37  31 238]\n",
      "  ...\n",
      "  [ 37  31 238]\n",
      "  [ 37  31 238]\n",
      "  [ 37  31 238]]\n",
      "\n",
      " ...\n",
      "\n",
      " [[255 255 255]\n",
      "  [255 255 255]\n",
      "  [255 255 255]\n",
      "  ...\n",
      "  [255 255 255]\n",
      "  [255 255 255]\n",
      "  [255 255 255]]\n",
      "\n",
      " [[255 255 255]\n",
      "  [255 255 255]\n",
      "  [255 255 255]\n",
      "  ...\n",
      "  [255 255 255]\n",
      "  [255 255 255]\n",
      "  [255 255 255]]\n",
      "\n",
      " [[255 255 255]\n",
      "  [255 255 255]\n",
      "  [255 255 255]\n",
      "  ...\n",
      "  [255 255 255]\n",
      "  [255 255 255]\n",
      "  [255 255 255]]]\n",
      "[ 37  31 238]\n"
     ]
    }
   ],
   "source": [
    "import cv2\n",
    "import numpy as np\n",
    "\n",
    "path = 'C:\\VSCODE\\Asset\\ll_gray.bmp'\n",
    "path2 = 'C:\\VSCODE\\Asset\\ll_gray_png.png'\n",
    "path3 = 'C:\\VSCODE\\Asset\\est.bmp'\n",
    "\n",
    "path4 = 'MerahPutih.jpg'\n",
    "\n",
    "img3 = cv2.imread(path4)\n",
    "print(img3.shape)\n",
    "print(img3)\n",
    "print(img3[10,110])"
   ]
  },
  {
   "cell_type": "code",
   "execution_count": 2,
   "id": "bd1291a8-0d1a-42eb-94ff-13756cba3372",
   "metadata": {},
   "outputs": [
    {
     "data": {
      "text/plain": [
       "-1"
      ]
     },
     "execution_count": 2,
     "metadata": {},
     "output_type": "execute_result"
    }
   ],
   "source": [
    "cv2.imshow(\"testing\",img3)\n",
    "cv2.waitKey(0)"
   ]
  },
  {
   "cell_type": "code",
   "execution_count": 3,
   "id": "ed407508-6e42-4830-8244-cf04e40ca8ea",
   "metadata": {},
   "outputs": [
    {
     "data": {
      "text/plain": [
       "-1"
      ]
     },
     "execution_count": 3,
     "metadata": {},
     "output_type": "execute_result"
    }
   ],
   "source": [
    "#cropped\n",
    "img4 = img3[:,100:200]\n",
    "cv2.imshow('cropped',img4)\n",
    "cv2.waitKey(0)"
   ]
  },
  {
   "cell_type": "code",
   "execution_count": 4,
   "id": "884cfbc0-442f-4932-924d-641a4f671d25",
   "metadata": {},
   "outputs": [
    {
     "data": {
      "text/plain": [
       "-1"
      ]
     },
     "execution_count": 4,
     "metadata": {},
     "output_type": "execute_result"
    }
   ],
   "source": [
    "#Resize by ratio\n",
    "smol = cv2.resize(img3, (0,0), fx=0.5, fy=0.5)\n",
    "large = cv2.resize(img3, (0,0), fx=1.5, fy=1.5)\n",
    "\n",
    "cv2.imshow('smol', smol)\n",
    "cv2.imshow('large', large)\n",
    "cv2.waitKey(0)"
   ]
  },
  {
   "cell_type": "code",
   "execution_count": 5,
   "id": "0b1266d3-9fee-45ab-bbfc-13e4c42e8664",
   "metadata": {},
   "outputs": [
    {
     "name": "stdout",
     "output_type": "stream",
     "text": [
      "(408, 612, 3)\n"
     ]
    },
    {
     "data": {
      "text/plain": [
       "-1"
      ]
     },
     "execution_count": 5,
     "metadata": {},
     "output_type": "execute_result"
    }
   ],
   "source": [
    "#Resize by Scale\n",
    "print(img3.shape)\n",
    "newSizeX, newSizeY = img3.shape[1]//4, img3.shape[0]//4\n",
    "\n",
    "\n",
    "AfterResize = cv2.resize(img3,(newSizeX, newSizeX))\n",
    "\n",
    "cv2.imshow('afterResize', AfterResize)\n",
    "cv2.waitKey(0)"
   ]
  },
  {
   "cell_type": "code",
   "execution_count": 6,
   "id": "6bacb92e-3adf-4b33-bd85-daa72371fa64",
   "metadata": {},
   "outputs": [
    {
     "data": {
      "text/plain": [
       "-1"
      ]
     },
     "execution_count": 6,
     "metadata": {},
     "output_type": "execute_result"
    }
   ],
   "source": [
    "#Invert\n",
    "ImageM = cv2.bitwise_not(large)\n",
    "\n",
    "cv2.imshow('invert', ImageM)\n",
    "cv2.waitKey(0)"
   ]
  },
  {
   "cell_type": "code",
   "execution_count": 7,
   "id": "e903ae53-c89d-4f2c-8324-1ab3c16a405c",
   "metadata": {},
   "outputs": [
    {
     "data": {
      "text/plain": [
       "-1"
      ]
     },
     "execution_count": 7,
     "metadata": {},
     "output_type": "execute_result"
    }
   ],
   "source": [
    "#Rotate\n",
    "ImageRot = cv2.rotate(img3, cv2.ROTATE_180)\n",
    "\n",
    "cv2.imshow('rotate', ImageRot)\n",
    "cv2.waitKey(0)"
   ]
  },
  {
   "cell_type": "code",
   "execution_count": 8,
   "id": "4674e786-0d14-46a5-a272-1579824fdf39",
   "metadata": {},
   "outputs": [
    {
     "name": "stdout",
     "output_type": "stream",
     "text": [
      "(408, 612, 3)\n"
     ]
    }
   ],
   "source": [
    "print(img3.shape)"
   ]
  },
  {
   "cell_type": "code",
   "execution_count": 9,
   "id": "6c8aab1f-d31c-4959-8bcf-f8fe5f45587b",
   "metadata": {},
   "outputs": [
    {
     "name": "stdout",
     "output_type": "stream",
     "text": [
      "37\n",
      "[[[57 51  2]\n",
      "  [57 51  2]\n",
      "  [57 51  2]\n",
      "  ...\n",
      "  [57 51  2]\n",
      "  [57 51  2]\n",
      "  [57 51  2]]\n",
      "\n",
      " [[57 51  2]\n",
      "  [57 51  2]\n",
      "  [57 51  2]\n",
      "  ...\n",
      "  [57 51  2]\n",
      "  [57 51  2]\n",
      "  [57 51  2]]\n",
      "\n",
      " [[57 51  2]\n",
      "  [57 51  2]\n",
      "  [57 51  2]\n",
      "  ...\n",
      "  [57 51  2]\n",
      "  [57 51  2]\n",
      "  [57 51  2]]\n",
      "\n",
      " ...\n",
      "\n",
      " [[19 19 19]\n",
      "  [19 19 19]\n",
      "  [19 19 19]\n",
      "  ...\n",
      "  [19 19 19]\n",
      "  [19 19 19]\n",
      "  [19 19 19]]\n",
      "\n",
      " [[19 19 19]\n",
      "  [19 19 19]\n",
      "  [19 19 19]\n",
      "  ...\n",
      "  [19 19 19]\n",
      "  [19 19 19]\n",
      "  [19 19 19]]\n",
      "\n",
      " [[19 19 19]\n",
      "  [19 19 19]\n",
      "  [19 19 19]\n",
      "  ...\n",
      "  [19 19 19]\n",
      "  [19 19 19]\n",
      "  [19 19 19]]]\n"
     ]
    },
    {
     "data": {
      "text/plain": [
       "-1"
      ]
     },
     "execution_count": 9,
     "metadata": {},
     "output_type": "execute_result"
    }
   ],
   "source": [
    "#Increasing Pixel Value\n",
    "img12 = img3\n",
    "value = 20\n",
    "print(img12[0,0][0])\n",
    "for i in range(408):\n",
    "    for j in range(612):\n",
    "        img12[i,j][0] = img12[i,j][0] + value\n",
    "        img12[i,j][1] = img12[i,j][1] + value\n",
    "        img12[i,j][2] = img12[i,j][2] + value\n",
    "\n",
    "        if img12[i,j][0] > 255:\n",
    "            img12[i,j][0] = 255\n",
    "        if img12[i,j][0] < 0:\n",
    "            img12[i,j][0] = 0\n",
    "        if img12[i,j][1] > 255:\n",
    "            img12[i,j][1] = 255\n",
    "        if img12[i,j][1] < 0:\n",
    "            img12[i,j][1] = 0\n",
    "        if img12[i,j][2] > 255:\n",
    "            img12[i,j][2] = 255\n",
    "        if img12[i,j][2] < 0:\n",
    "            img12[i,j][2] = 0\n",
    "\n",
    "print(img12)\n",
    "cv2.imshow('testing', img12)\n",
    "cv2.waitKey(0)"
   ]
  },
  {
   "cell_type": "code",
   "execution_count": null,
   "id": "2c33a9ed-a401-4dfb-8e08-49d37f16a90d",
   "metadata": {},
   "outputs": [],
   "source": []
  }
 ],
 "metadata": {
  "kernelspec": {
   "display_name": "Python 3 (ipykernel)",
   "language": "python",
   "name": "python3"
  },
  "language_info": {
   "codemirror_mode": {
    "name": "ipython",
    "version": 3
   },
   "file_extension": ".py",
   "mimetype": "text/x-python",
   "name": "python",
   "nbconvert_exporter": "python",
   "pygments_lexer": "ipython3",
   "version": "3.12.1"
  }
 },
 "nbformat": 4,
 "nbformat_minor": 5
}
