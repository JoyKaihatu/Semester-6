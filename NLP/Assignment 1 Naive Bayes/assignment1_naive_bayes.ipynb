{
 "cells": [
  {
   "cell_type": "markdown",
   "metadata": {},
   "source": [
    "# Group Identity\n",
    "If your group is going to submit this assignment for grading, write down the student IDs and names in the cell below.\n",
    "By writing down your identity, you claim that your submission is your own group's work. You understand and will accept any punishment should there be any kind of violation of academic integrity with your submission, including direct failure of the entire NLP course."
   ]
  },
  {
   "cell_type": "markdown",
   "metadata": {},
   "source": [
    "<b>Double click here</b> to write down your IDs and names.\n"
   ]
  },
  {
   "cell_type": "markdown",
   "metadata": {},
   "source": [
    "# Assignment 1: Naive Bayes\n",
    "Welcome to your first NLP assignment. You will learn about text classification using Naive Bayes. Concretely, you will be using Naive Bayes for sentiment analysis on tweets. Given a tweet, you will decide if it has a positive sentiment or a negative one. Specifically you will: \n",
    "\n",
    "* Train a naive bayes model on a sentiment analysis task\n",
    "* Test using your model\n",
    "* Compute ratios of positive words to negative words\n",
    "* Do some error analysis\n",
    "* Predict on your own tweet\n",
    "\n",
    "You may already be familiar with Naive Bayes and its justification in terms of conditional probabilities and independence.\n",
    "* In this week's lectures and assignments we used the ratio of probabilities between positive and negative sentiment.\n",
    "* This approach gives us simpler formulas for these 2-way classification tasks.\n",
    "\n",
    "Lets get started!\n",
    "\n",
    "Load the cell below to import some packages.\n",
    "You may want to browse the documentations of unfamiliar libraries and functions."
   ]
  },
  {
   "cell_type": "markdown",
   "metadata": {},
   "source": [
    "## Table of Contents\n",
    "\n",
    "- [Importing Functions and Data](#0)\n",
    "- [1 - Process the Data](#1)\n",
    "    - [1.1 - Implementing your Helper Functions](#1-1)\n",
    "        - [Exercise 1 - count_tweets (UNQ_C1)](#ex-1)\n",
    "- [2 - Train your Model using Naive Bayes](#2)\n",
    "    - [Exercise 2 - train_naive_bayes (UNQ_C2)](#ex-2)\n",
    "- [3 - Test your Naive Bayes](#3)\n",
    "    - [Exercise 3 - naive_bayes_predict  (UNQ_C4)](#ex-3)\n",
    "    - [Exercise 4 - test_naive_bayes (UNQ_C6)](#ex-4)\n",
    "- [4 - Filter words by Ratio of Positive to Negative Counts](#4)\n",
    "    - [Exercise 5 - get_ratio (UNQ_C8)](#ex-5)\n",
    "    - [Exercise 6 - get_words_by_threshold (UNQ_C9)](#ex-6)\n",
    "- [5 - Error Analysis](#5)\n",
    "- [6 - Predict with your own Tweet](#6)"
   ]
  },
  {
   "cell_type": "markdown",
   "metadata": {},
   "source": [
    "<a name='0'></a>\n",
    "## Importing Functions and Data"
   ]
  },
  {
   "cell_type": "code",
   "execution_count": 1,
   "metadata": {},
   "outputs": [
    {
     "name": "stderr",
     "output_type": "stream",
     "text": [
      "C:\\Users\\Lenovo\\AppData\\Local\\Temp\\ipykernel_157092\\2277008493.py:5: DeprecationWarning: \n",
      "Pyarrow will become a required dependency of pandas in the next major release of pandas (pandas 3.0),\n",
      "(to allow more performant data types, such as the Arrow string type, and better interoperability with other libraries)\n",
      "but was not found to be installed on your system.\n",
      "If this would cause problems for you,\n",
      "please provide us feedback at https://github.com/pandas-dev/pandas/issues/54466\n",
      "        \n",
      "  import pandas as pd\n",
      "[nltk_data] Downloading package twitter_samples to\n",
      "[nltk_data]     C:\\Users\\Lenovo\\AppData\\Roaming\\nltk_data...\n",
      "[nltk_data]   Package twitter_samples is already up-to-date!\n",
      "[nltk_data] Downloading package stopwords to\n",
      "[nltk_data]     C:\\Users\\Lenovo\\AppData\\Roaming\\nltk_data...\n",
      "[nltk_data]   Package stopwords is already up-to-date!\n"
     ]
    },
    {
     "data": {
      "text/plain": [
       "True"
      ]
     },
     "execution_count": 1,
     "metadata": {},
     "output_type": "execute_result"
    }
   ],
   "source": [
    "from utils import process_tweet, lookup\n",
    "import pdb\n",
    "from nltk.corpus import stopwords, twitter_samples\n",
    "import numpy as np\n",
    "import pandas as pd\n",
    "import nltk\n",
    "import string\n",
    "from nltk.tokenize import TweetTokenizer\n",
    "from os import getcwd\n",
    "import a1_unittest\n",
    "\n",
    "nltk.download('twitter_samples')\n",
    "nltk.download('stopwords')"
   ]
  },
  {
   "cell_type": "code",
   "execution_count": 2,
   "metadata": {},
   "outputs": [
    {
     "name": "stdout",
     "output_type": "stream",
     "text": [
      "@AquaDesignGroup Thank you for the shout out. Have a great Friday :) 1.0\n",
      "@LottyStorer @charliee_catlin 😂😩😩 what a mess :( 0.0\n"
     ]
    }
   ],
   "source": [
    "# get the sets of positive and negative tweets\n",
    "all_positive_tweets = twitter_samples.strings('positive_tweets.json')\n",
    "all_negative_tweets = twitter_samples.strings('negative_tweets.json')\n",
    "\n",
    "# split the data into two pieces, one for training and one for testing (validation set)\n",
    "test_pos = all_positive_tweets[4000:]\n",
    "train_pos = all_positive_tweets[:4000]\n",
    "test_neg = all_negative_tweets[4000:]\n",
    "train_neg = all_negative_tweets[:4000]\n",
    "\n",
    "train_x = train_pos + train_neg\n",
    "test_x = test_pos + test_neg\n",
    "\n",
    "# avoid assumptions about the length of all_positive_tweets\n",
    "train_y = np.append(np.ones(len(train_pos)), np.zeros(len(train_neg)))\n",
    "test_y = np.append(np.ones(len(test_pos)), np.zeros(len(test_neg)))\n",
    "\n",
    "# print some sample data\n",
    "print(train_x[42], train_y[42])\n",
    "print(test_x[-42], test_y[-42])"
   ]
  },
  {
   "cell_type": "markdown",
   "metadata": {},
   "source": [
    "<a name='1'></a>\n",
    "## 1 - Process the Data\n",
    "\n",
    "For any machine learning project, once you've gathered the data, the first step is to process it to make useful inputs to your model.\n",
    "- **Remove noise**: You will first want to remove noise from your data -- that is, remove words that don't tell you much about the content. These include all common words like 'I, you, are, is, etc...' that would not give us enough information on the sentiment.\n",
    "- We'll also remove stock market tickers, retweet symbols, hyperlinks, and hashtags because they can not tell you a lot of information on the sentiment.\n",
    "- You also want to remove all the punctuation from a tweet. The reason for doing this is because we want to treat words with or without the punctuation as the same word, instead of treating \"happy\", \"happy?\", \"happy!\", \"happy,\" and \"happy.\" as different words.\n",
    "- Finally you want to use stemming to only keep track of one variation of each word. In other words, we'll treat \"motivation\", \"motivated\", and \"motivate\" similarly by grouping them within the same stem of \"motiv-\".\n",
    "\n",
    "The function `process_tweet` that does this for you is already given."
   ]
  },
  {
   "cell_type": "code",
   "execution_count": 3,
   "metadata": {},
   "outputs": [
    {
     "name": "stdout",
     "output_type": "stream",
     "text": [
      "['hello', 'great', 'day', ':)', 'good', 'morn']\n"
     ]
    }
   ],
   "source": [
    "custom_tweet = \"RT @Twitter @chapagain Hello There! Have a great day. :) #good #morning http://chapagain.com.np\"\n",
    "\n",
    "# print cleaned tweet\n",
    "print(process_tweet(custom_tweet))"
   ]
  },
  {
   "cell_type": "markdown",
   "metadata": {},
   "source": [
    "<a name='1-1'></a>\n",
    "### 1.1 - Implementing your Helper Functions\n",
    "\n",
    "To help you train your naive bayes model, you will need to compute a dictionary where the keys are a tuple (word, label) and the values are the corresponding frequency.  Note that the labels we'll use here are 1 for positive and 0 for negative.\n",
    "\n",
    "You will also implement a lookup helper function that takes in the `freqs` dictionary, a word, and a label (1 or 0) and returns the number of times that word and label tuple appears in the collection of tweets.\n",
    "\n",
    "For example: given a list of tweets `[\"i am rather excited\", \"you are rather happy\"]` and the label 1, the function will return a dictionary that contains the following key-value pairs:\n",
    "\n",
    "{\n",
    "    (\"rather\", 1): 2,\n",
    "    (\"happi\", 1) : 1, \n",
    "    (\"excit\", 1) : 1\n",
    "}\n",
    "\n",
    "- Notice how for each word in the given string, the same label 1 is assigned to each word.\n",
    "- Notice how the words \"i\" and \"am\" are not saved, since it was removed by process_tweet because it is a stopword.\n",
    "- Notice how the word \"rather\" appears twice in the list of tweets, and so its count value is 2.\n",
    "\n",
    "<a name='ex-1'></a>\n",
    "### Exercise 1 - count_tweets\n",
    "Create a function `count_tweets` that takes a list of tweets as input, cleans all of them, and returns a dictionary.\n",
    "- The key in the dictionary is a tuple containing the stemmed word and its class label, e.g. (\"happi\",1).\n",
    "- The value the number of times this word appears in the given collection of tweets (an integer)."
   ]
  },
  {
   "cell_type": "markdown",
   "metadata": {},
   "source": [
    "<details>\n",
    "<summary>\n",
    "    <font size=\"3\" color=\"darkgreen\"><b>Hints</b></font>\n",
    "</summary>\n",
    "<p>\n",
    "<ul>\n",
    "    <li>Please use the `process_tweet` function that was imported above, and then store the words in their respective dictionaries and sets.</li>\n",
    "    <li>You may find it useful to use the `zip` function to match each element in `tweets` with each element in `ys`.</li>\n",
    "    <li>Remember to check if the key in the dictionary exists before adding that key to the dictionary, or incrementing its value.</li>\n",
    "    <li>Assume that the `result` dictionary that is input will contain clean key-value pairs (you can assume that the values will be integers that can be incremented).  It is good practice to check the datatype before incrementing the value, but it's not required here.</li>\n",
    "</ul>\n",
    "</p>"
   ]
  },
  {
   "cell_type": "code",
   "execution_count": 4,
   "metadata": {},
   "outputs": [],
   "source": [
    "# UNQ_C1 GRADED FUNCTION: count_tweets\n",
    "\n",
    "def count_tweets(result, tweets, ys):\n",
    "    '''\n",
    "    Input:\n",
    "        result: a dictionary that will be used to map each pair to its frequency\n",
    "        tweets: a list of tweets\n",
    "        ys: a list corresponding to the sentiment of each tweet (either 0 or 1)\n",
    "    Output:\n",
    "        result: a dictionary mapping each pair to its frequency\n",
    "    '''\n",
    "    ### START CODE HERE ###\n",
    "    for y, tweet in zip(ys, tweets):\n",
    "        for word in process_tweet(tweet):\n",
    "            # define the key, which is the word and label tuple\n",
    "            pair = word,y\n",
    "            \n",
    "            # if the key exists in the dictionary, increment the count\n",
    "            if pair in result:\n",
    "                result[pair] += 1\n",
    "\n",
    "            # else, if the key is new, add it to the dictionary and set the count to 1\n",
    "            else:\n",
    "                result[pair] = 1\n",
    "    ### END CODE HERE ###\n",
    "\n",
    "    return result"
   ]
  },
  {
   "cell_type": "code",
   "execution_count": 5,
   "metadata": {},
   "outputs": [
    {
     "data": {
      "text/plain": [
       "{('happi', 1): 1, ('trick', 0): 1, ('sad', 0): 1, ('tire', 0): 2}"
      ]
     },
     "execution_count": 5,
     "metadata": {},
     "output_type": "execute_result"
    }
   ],
   "source": [
    "# Testing your function\n",
    "\n",
    "result = {}\n",
    "tweets = ['i am happy', 'i am tricked', 'i am sad', 'i am tired', 'i am tired']\n",
    "ys = [1, 0, 0, 0, 0]\n",
    "count_tweets(result, tweets, ys)"
   ]
  },
  {
   "cell_type": "markdown",
   "metadata": {},
   "source": [
    "**Expected Output**: {('happi', 1): 1, ('trick', 0): 1, ('sad', 0): 1, ('tire', 0): 2}"
   ]
  },
  {
   "cell_type": "code",
   "execution_count": 6,
   "metadata": {},
   "outputs": [
    {
     "name": "stdout",
     "output_type": "stream",
     "text": [
      "\u001b[92m All tests passed\n"
     ]
    }
   ],
   "source": [
    "# Test your function\n",
    "a1_unittest.test_count_tweets(count_tweets)"
   ]
  },
  {
   "cell_type": "markdown",
   "metadata": {},
   "source": [
    "<a name='2'></a>\n",
    "## 2 - Train your Model using Naive Bayes\n",
    "\n",
    "Naive bayes is an algorithm that could be used for sentiment analysis. It takes a short time to train and also has a short prediction time.\n",
    "\n",
    "#### So how do you train a Naive Bayes classifier?\n",
    "- The first part of training a naive bayes classifier is to identify the number of classes that you have.\n",
    "- You will create a probability for each class.\n",
    "$P(D_{pos})$ is the probability that the document is positive.\n",
    "$P(D_{neg})$ is the probability that the document is negative.\n",
    "Use the formulas as follows and store the values in a dictionary:\n",
    "\n",
    "$$P(D_{pos}) = \\frac{D_{pos}}{D}\\tag{1}$$\n",
    "\n",
    "$$P(D_{neg}) = \\frac{D_{neg}}{D}\\tag{2}$$\n",
    "\n",
    "Where $D$ is the total number of documents, or tweets in this case, $D_{pos}$ is the total number of positive tweets and $D_{neg}$ is the total number of negative tweets."
   ]
  },
  {
   "cell_type": "markdown",
   "metadata": {},
   "source": [
    "#### Prior and Logprior\n",
    "\n",
    "The prior probability represents the underlying probability in the target population that a tweet is positive versus negative.  In other words, if we had no specific information and blindly picked a tweet out of the population set, what is the probability that it will be positive versus that it will be negative? That is the \"prior\".\n",
    "\n",
    "The prior is the ratio of the probabilities $\\frac{P(D_{pos})}{P(D_{neg})}$.\n",
    "We can take the log of the prior to rescale it, and we'll call this the logprior\n",
    "\n",
    "$$\\text{logprior} = log \\left( \\frac{P(D_{pos})}{P(D_{neg})} \\right) = log \\left( \\frac{D_{pos}}{D_{neg}} \\right)$$.\n",
    "\n",
    "Note that $log(\\frac{A}{B})$ is the same as $log(A) - log(B)$.  So the logprior can also be calculated as the difference between two logs:\n",
    "\n",
    "$$\\text{logprior} = \\log (P(D_{pos})) - \\log (P(D_{neg})) = \\log (D_{pos}) - \\log (D_{neg})\\tag{3}$$"
   ]
  },
  {
   "cell_type": "markdown",
   "metadata": {},
   "source": [
    "#### Positive and Negative Probability of a Word\n",
    "To compute the positive probability and the negative probability for a specific word in the vocabulary, we'll use the following inputs:\n",
    "\n",
    "- $freq_{pos}$ and $freq_{neg}$ are the frequencies of that specific word in the positive or negative class. In other words, the positive frequency of a word is the number of times the word is counted with the label of 1.\n",
    "- $N_{pos}$ and $N_{neg}$ are the total number of positive and negative words for all documents (for all tweets), respectively.\n",
    "- $V$ is the number of unique words in the entire set of documents, for all classes, whether positive or negative.\n",
    "\n",
    "We'll use these to compute the positive and negative probability for a specific word using this formula:\n",
    "\n",
    "$$ P(W_{pos}) = \\frac{freq_{pos} + 1}{N_{pos} + V}\\tag{4} $$\n",
    "$$ P(W_{neg}) = \\frac{freq_{neg} + 1}{N_{neg} + V}\\tag{5} $$\n",
    "\n",
    "Notice that we add the \"+1\" in the numerator for additive smoothing.  This [wiki article](https://en.wikipedia.org/wiki/Additive_smoothing) explains more about additive smoothing."
   ]
  },
  {
   "cell_type": "markdown",
   "metadata": {},
   "source": [
    "#### Log likelihood\n",
    "To compute the loglikelihood of that very same word, we can implement the following equations:\n",
    "\n",
    "$$\\text{loglikelihood} = \\log \\left(\\frac{P(W_{pos})}{P(W_{neg})} \\right)\\tag{6}$$"
   ]
  },
  {
   "cell_type": "markdown",
   "metadata": {},
   "source": [
    "##### Create `freqs` dictionary\n",
    "- Given your `count_tweets` function, you can compute a dictionary called `freqs` that contains all the frequencies.\n",
    "- In this `freqs` dictionary, the key is the tuple (word, label)\n",
    "- The value is the number of times it has appeared.\n",
    "\n",
    "We will use this dictionary in several parts of this assignment."
   ]
  },
  {
   "cell_type": "code",
   "execution_count": 7,
   "metadata": {},
   "outputs": [
    {
     "name": "stdout",
     "output_type": "stream",
     "text": [
      "(('one', 1.0), 92)\n",
      "11427\n",
      "2\n",
      "9161\n",
      "{'warmup', 'pro@illamasqua.com', 'jump', 'setokido', \":'d\", 'bia', 'maker', 'titl', 'rain', 'kindl', 'superb', 'snapm', 'crew', 'believ', 'spot', 'contin', 'lini', 'persona', 'dunno', '4000', 'yuppiiee', 'fabina', 'realreview', 'havent', 'kfc', \"year'\", 'thk', 'benzema', 'edwin', 'fire', 'dreari', 'sampath', '1dfor', '✌', 'sian', 'prrequest', 'step', 'nxt', 'amnot', 'mvg', 'bing', 'wasnt', 'viewer', 'mainli', 'ifc', 'raid', 'flow', 'charlott', 'maniataki', 'think', 'x26', 'whenev', 'hyperbulli', 'pana', 'good', 'katerina', 'barcelona', 'للحياة', 'highlight', 'di', 'urghhh', 'invit', 'farbridg', 'lafayett', 'maganda', 'happenend', 'legit', 'tengaman', 'whay', '->', 'melodi', '334', 'sanum', 'oralsex', 'yess', 'aishhh', 'stiffen', 'muddl', 'sat', 'vaccin', 'cast', 'charcoal', 'hallow', 'scrummi', 'teamnatur', 'lega', 'venic', 'friex', 'soonest', 'scienc', 'pigeon', 'display', 'steak', 'couldnt', 'shithous', 'imma', 'broker', 'plain', 'pleasant', 'gomez', 'build', 'bogu', 'break', 'sail', 'heart-break', \"we'v\", 'mallick', 'alison', '98fm', 'throat', 'vall', 'glow', 'lego', 'sweetbj', 'haw', 'x23', 'clown', 'delight', 'nje', 'pleasee', 'yar', 'iplay', \"u'll\", 'whahahaha', 'notch', 'khawateen', 'ought', 'izumi', 'somehow', 'second', '25x30', 'karain', '💗', 'taft', 'unimport', 'hbd', 'presid', 'exist', 'whose', 'princ', '4-5', 'angelica', 'similar', 'baon', 'kaslkdja', 'caus', 'poetri', 'tou', 'mino', 'ry', 'televot', 'comput', 'mbf', 'foreal', 'disciplin', 'sfvbeta', 'chart', 'meck', 'sexysasunday', 'softwar', '200sub', '😭', 'cam', 'deathli', 'hinanap', 'monsoon', 'bahayan', '50cent', 'princess', '7df89150', 'visa', 'racial', 'henessydiari', 'net', 'qatarday', 'deliri', 'mysql', \"who'\", 'fundamentalist', 'sweden', 'abbi', 'coyot', 'tracerequest', 'saaad', 'sport', '30', 'shall', 'scififan', 'billion', 'd:', 'vandr', 'ae', 'perform', 'pamer', 'agnezmo', 'chicken', 'ss', 'jst', 'anna', 'addm', 'james_yammouni', 'stephen', 'dm', 'xur', 'ylona', 'webz', 'mugshot', 'particular', '332', 'term', 'disabl', 'housemus', 'videograph', '24/25', 'throwbackfriday', 'ipod', '482', 'stronger', 'otwol', 'thelock', 'murugan', 'wolv', 'mcfloat', 'childhood', 'tukutanemombasa', 'saturday', 'megafauna', 'siriu', 'halla', '🗽', 'afterward', '2-0', 'outdat', 'small', 'lovesummertim', 'pharma', '5878e503', 'kidschoiceaward', 'shadow', 'voucher', 'afternoon', 'unlist', 'nu-uh', 'bookreview', 'drove', 'vist', '2-4', 'yeeew', 'a9', 'swisher', '345', 'juliana', 'bite', 'djderek', 'educampakl', 'armor', 'slogan', 'likeforfollow', 'dough', 'remot', 'santorini', 'thalaivar', 'plaster', 'groan', 'furri', 'j11', 'documentari', '02079', 'tabl', 'raw', 'luxurytravel', 'refuel', 'familyhom', 'minecraft', 'tech', '51', 'sambal', 'tb', 'bodi', 'lynn', \"stomach'\", 'quuuee', 'yun', 'killer', 'teleport', 'palembang', 'kitkat', 'question', 'undead', 'show', 'rather', 'physic', 'figur', 'consol', 'sun', 'blond', 'x32', 'vantast', 'bideford', 'matteroftheheart', 'bike', 'toll', 'jfc', 'amateur', '9:25', \"ledger'\", 'saar', 'flaviana', 'assassin', 'bi-polar', 'lsh', 'louisiana', 'afti', 'novel', 'shittier', 'thistl', 'foam', 'karen', 'polka', 'quietli', 'bhk', '3.5', 'confirm', 'racket', 'brighton', 'twitlong', 'dislik', '@connorfranta', '0272 3306', 'kikmenow', '╱', 'happyfriday', 'websit', 'ng', '1100d', 'zodiac', 'decent', 'dumont', 'destroy', 'dear', 'blockchain', 'afropunk', 'inaccess', 'miah', 'hahaha', 'spell', 'purti', 'corinehurleigh', 'cheltenham', 'prize', 'mischiev', 'know', 'gensan', 'mango', 'mahon', 'hell', 'paus', 'blend', 'nugget', \"o'clock\", 'wesen', 'wd', 'callinganimalabusehotlineasap', 'vscoph', 'lookfortheo', 'rat', 'classicassur', 'shorter', 'nooop', 'juli', 'fashionfriday', 'cabincrew', 'helmi', 'dipoppo', 'modern', 'bheyp', 'politician', 'lead', '50p', \"friend'\", 'solo', 'superpow', 'wrote', '2015', 'och', 'main', 'month', 'nd', 'groceri', 'gr', 'weight', '.\\n.\\n.', 'classi', 'nap', 'cultur', 'fani', 'jeb', 'luxembourg', 'myungsoo', 'orcalov', 'victoriasecret', 'nvm', \"t'wa\", 'teamjanuaryclaim', 'sakin', 'looov', 'old', 'anger', 'reabsorbt', 'offer', 'market', \"s'okay\", 'pak', 'muddi', 'swim', 'rudramadevi', 'chose', 'dikha', 'mr', 'thapelo', 'unabl', 'genial', 'strip', 'volunt', 'yot', 'becom', 'yey', 'compar', \"paperwhite'\", 'enn', 'goe', 'pakighinabi', 'georgesampson', 'steph', 'whole', 'aftenoon', 'maggi', 'zonzofox', '00962778381', 'vivian', 'stomp', 'receptionist', 'chin', 'leed', 'all-tim', 'progrmr', 'yhooo', 'brienn', 'present', 'chemic', 'chuckl', 'ge', 'stupid', 'aameen', 'taal', 'wot', 'cd', 'slept', 'oh', 'churro', 'fast', 'cost', 'askurban', 'liam', 'waa', 'goddess', 'teaser', 'agesss', '430', 'die', 'fennel', 'reckon', 'topwat', '😜', 'airlin', 'groupi', 'isi', 'loud', 'in-app', 'spine', 'pta', 'oldschool', 'bravo', 'manifest', '322', 'endow', 'events@breastcancernow.org', 'quickli', 'panem', 'gamer', 'b2b', 'hoe', 'justgotkanekifi', 'tum', 'although', 'newsround', 'seungyeon', 'whimper', 'saera', 'anushka', 'orphan', 'thank', 'pitchwar', 'programm', 'cotton', 'beheaviour', 'clear', 'aki', 'lemess', 'planet', 'axio', 'boong', 'waffl', 'scoup', 'splendid', 'shake', 'birthdaymonth', 'ofc', 'ducktail', 'inde', 'batch', 'english', 'shock', 'tube', 'payment', 'tato', 'junjou', 'tl', 'delet', 'bitsy@bitdefender.com', 'biphob', 'diet', 'wh', 'truli', 'countrymus', 'tell', 'challo', 'inaccuraci', 'lawn', 'duo', 'montana', 'roadtrip', 'bigot', 'legal', 'aah', 'relentlessli', 'pollut', 'hitler', 'latmon', 'skirt', 'breath', 'chek', 'und', 'nyc', 'conflict', 'jenni', 'cut', 'bodo', 'slovenia', 'alek', 'nj', 'aaa', 'kid', 'foodi', 'asid', 'elvena', 'hunger', 'brianaaa', 'wewanticecream', 'note', 'rehash', 'creat', 'neh', 'free', 'bayonetta', 'tebrik', '90210', 'blurri', 'pech', 'katekyn', 'hologram', 'wlan', 'pandimension', 'return', 'bagi', 'bollywood', '1/5', 'nbhero', 'nextweek', 'turkish', 'aisyhhh', 'somerset', 'gen', 'hind', '6:01', 'georg', 'especi', 'ganda', 'charli', 'food', \"jiyeon'\", 'cretaperfect', 'marvel', 'yuki-chan', 'ice', 'dunedin', 'af', 'contribut', 'satyajit', 'context', 'haaretz', 'poorli', '3g', '_gta_giveaway', '75x', 'maaf', 'pfft', 'utd', 'special', '9:30', 'cherish', 'terribl', 'sasin', 'dual', '16.20', 'yaaah', 'boner', 'andrew', 'bhaiya', '350', 'daze', 'madonnamademtv', 'justiceforsandrabland', 'backkk', 'deneriveri', 'liter', 'gym', 'traffick', 'king', 'awami', 'touch', 'nail', 'throw', 'instagood', 'teach', 'bu', 'ohmyg', 'voic', 'toppl', 'navig', 'thaaank', 'check-up', 'unniee', 'moral', '22pic', 'magic', 'hotel', 'ilovey', 'deactiv', 'aur', '�', 'thankyouu', 'privaci', 'jdjdjdjd', 'mysteri', 'jarraaa', 'php', 'fall', 'closet', 'like', 'brave', 'cod', 'htaccess', 'bahay', 'keepitloc', 'disagre', 'orz', 'yaadein', 'henc', 'averag', 'gwinett', 'iero', 'tutori', 'aboard', 'master', 'aswel', '10', 'ghost', 'illadvis', 'e', 'style', 'amyjackson', 'trust', 'baloch', 'sunni', 'fb', 'indonesian', 'chu', 'warsaw', 'children', 'georgia', 'briliant', 'line', 'couscou', 'icecreammast', 'jone', 'morocco', 'roll', 'osteopath', 'yer', 'l4l', 'bindingofissac', 'drama', 'andar', 'famou', 'muaahhh', 'vincent', 'syria', \"alex'\", 'morn', 'txt', 'bb', 'emo', 'hopia', 'beyond', 'kitteh', 'chelsea', 'privat', 'strength', 'glaze', 'princip', 'infra', 'toddlerlif', 'x42', '2ne1', 'freak', 'sell', 'godonna', 'suspend', 'wouldv', 'girlfriend', '8)', '@juliettemaughan', 'tellanoldjokeday', 'mcnugget', 'ཀ', 'dull', 'bummer', 'yum', 'cnblue', 'kiss', 'cuz', 'peachyloan', 'gladli', \"sunny'\", 'is.h', 'uniform', 'cozi', 'kelli', 'estim', 'huge', 'amen', 'chiquito', 'cypher', 'pronounc', 'necklac', 'zain', 'kendal', 'je', 'heswifi', 'pure', 'likewis', 'biblethump', '💚', 'icecream', 'profil', 'give', 'star', 'walmart', 'everyon', 'portrait', 'dartmoor', '5h', 'panda', 'age', 'sanza', 'crap', 'veeerri', 'urgent', '333505', 'bfr', 'project', '2weeksdontmissittoomuch', 'subway', 'work', 'thirstyyi', 'sniff', 'fluffi', 'place', 'anywher', 'supernatur', 'zephbot', 'knee', 'interview', 'ffvi', 'lol.hook', 'youngja', 'dumbest', '13glodyysbro', 'share', 'real_liam_payn', 'ohh', 'unless', 'motav', '346', 'board', 'ode', 'scale', 'meydan', '29th', 'gosh', 'unlik', 'mahirap', 'fridayfreebi', 'wgm', 'salut', '。', 'cocoar', 'rider', 'kina', 'reina', 'pubcast', 'blush', 'handshom', '797', 'weekend', 'masa', '30.000', 'rumbl', 'chronicl', 'bbygurl', 'geek', 'ganbarimasu', 'ngga', 'self-xss', 'bam', 'handl', 'foof', 'darn', 'vodka', 'succeed', 'roomi', 'dollar', 'hunt', 'breakup', 'socket', 'enterprison', 'himach', '┻', 'assist', 'xiu', 'eye', 'septum', 'allgoodthingsk', 'prescript', 'encanta', 'eyesmil', 'vega', 'kennel', 'bestweekend', 'vehicl', 'cooler', 'incompleta', 'folder', 'consult', '😊', 'soda', 'happybirthday', 'tongu', 'andam', 'tomcat', 'dragon', 'sprite', 'opt', '07:25', 'tgv', 'untruth', 'orgasm', 'consist', 'bale', '12pm', 'lurgi', 'dublin', 'peep', 'innumer', 'teh', \"doido'\", 'donna', 'absolut', 'scamper', 'nibbl', 'kia', 'zz', 'orchestra', 'blast', 'bandi', 'bff', 'shift', 'cerbchan', 'nirvana', 'leviboard', 'dearli', 'visit', 'an', 'learnt', 'wohoo', 'fridayfeel', 'innoc', 'promot', 'homi', 'otw', 'ore', 'sath', 'ring', 'waah', \"that'\", 'blamehoney', 'shipper', 'omar', 'reliev', '✨', 'diplomaci', 'ivan', 'brush', 'adult', 'lahat', 'drift', 'meooowww', 'disgust', 'ke', 'orhan', '24th', 'beard', \"c'mon\", 'wareh', 'connect', 'sj', 'rapper', 'jiba', 'unfamiliar', 'dit', 'chateau', 'possibl', 'shot', 'oppos', 'given', 'handsom', 'yahuda', 'reject', 'pedant', \"y'day\", 'banter', 'vocal', 'oppa', 'seekli', 'owww', 'bilbao', 'agov', 'hey', 'hxh', 'gujarat', 'pant', 'apolog', 'cikaaa', 'hay', 'rich', 'r2d2', 'join', 'plsss', 'keeno', 'x6', '565', 'steelbook', 'sourc', 'surajettan', ':p', 'iamamonst', 'dimpl', 'seouljin', 'gum', 'x12', 'anarchi', 'tarryn', 'life', 'adventur', 'hacharatt', 'en', 'mart', 'proactiv', 'vine', 'bunch', 'must', 'australia', 'thailand', 'megamoh', 'mamabear', 'longest', '330', 'purchas', 'dirti', 'elbow', 'agh', 'loser', 'lori', 'gross', \"there'\", 'die-of', 'control', 'sleepi', 'circuit', 'goodi', 'pano', 'xma', '💔', '7elw', 'champion', '0345', 'eon', 'inatal', 'sign', 'livid', 'liveonstream', 'startup', 'spm', 'sheep', 'happyweekend', 'katmtan', 'uss', 'zzzz', '6yr', 'fr', 'mtvhottest', 'cage', '9bi', 'sunris', 'grind', 'india', 'unprepar', 'brad', \"spot'\", 'au', 'patch', 'iger', 'hill', 'meni', '7th', 'narrow', 'emyu', 'easi', 'mga', 'happyalien', 'ooouch', 'fantast', 'fourfivesecond', 'selamat', 'cheapest', 'resto', 'philosoph', 'delv', 'coldplay', 'medicin', 'kgola', 'trivia', 'lick', 'saw', 'wena', 'tore', 'oshieer', 'embarrass', 'goofingaround', 'lb', \"freddy'\", 'bruuh', '200.000', 'meat', 'irish', 'spice', 'ps4', '70', 'wide', 'xpress', 'mist', 'carrot', 'tridon', 'deliveri', 'ricky_feb', '25', 'taken', '63', 'clonmel', 'mile', 'surreal', 'kingdom', 'fanart', 'magicalmysterytour', 'socialmedia@dpdgroup.co.uk', 'boatbound', 'flame', 'foot', 'youth', 'usual', 'gurgaon', 'hater', 'edomnt', 'exec', 'bapu', 'gestur', 'harana', 'alll', '8.40', 'ekk', 'lisah', 'sohappyrightnow', 'tuitutil', 'diner', 'allow', 'parcel', 'diari', 'non-trial', 'chaotic', 'adam', 'climb', '22stan', 'bathtub', 'xst', 'beat', 'eventu', 'tii', 'collag', '4.4+', 'pervert', 'tut', 'lad', 'poootek', 'candl', 'realli', 'complic', 'magazin', 'uh', 'newsdistribut', 'happi', 'ay', 'encor', 'wbu', 'manbearpig', '4am', '4thwin', 'blackfli', 'hallyu', '12', 'deo', 'thankyouuu', 'discontinu', 'nowplay', 'meh', 'sandroforceo', 'mad', 'letsgetmessi', 'drought-link', 'maldiv', 'fair', 'iphon', 'alway', 'superhero', 'shut', 'preform', 'housem', 'topgear', 'multiraci', 'yhm', '15ml', '💪', 'recent', 'digitalmarket', 'yup', 'background', 'bergerac', 'pumpkin', 'birthdaygirl', 'bellami', 'honestli', 'gayl', 'salamat', \"dn't\", 'magpaalam', 'amsterdam', 'retard', 'ubericecream', 'subcontin', 'june', 'workhard', '9:00', 'blinkin', 'canva', 'wah', 'add', 'istanya', 'init', 'friendship', 'music', 'ketchup', 'ciao', 'miller', 'gi', '¿', 'beeepin', 'chalut', 'commit', 'shxb', 'opt-out', 'mastership', 'mubank', 'middl', 'saddest', 'tonight', 'nsn_supplement', 'a4', 'aminormalyet', 'rlyyi', 'fragil', 'giveaway', 'ohgod', 'spring', 'pig', 'mayor', 'maaay', 'prefer', 'surrend', 'hang', 'spotifi', 'patriot', 'path', 'sydney', 'loos', \":')\", 'mañana', 'vyapam', '21st', 'road', 'akon', 'lovebird', 'brought', 'orlean', 'would', 'wil', 'vscophil', 'emm', 'avert', 'pizza', \"izzy'\", 'bemecod', 'deck', 'offens', 'yulin', 'tweep', 'a6', 'attent', '7/29', 'butterfli', 'record', 'sharyl', '0', 'mount', \"millie'\", 't_t', 'creak', 'pippa', 'content', 'sexi', 'hound', 'chap', '1.300', 'overli', 'sux', 'thiz', 'prydz', 'evri', 'shoe', 'batb', 'stay', 'advic', 'gulo', 'sobrang', 'riptito', 'yongb', 'kindest', 'pension', 'retali', 'exclud', 'xbox', 'beastmod', 'dp', 'awe', 'homebound', 'solv', 'afterschool', 'austin', 'lucki', 'safer', 'excit', 'rdd', 'rumbel', 'salabrati', '348', 'adolf', '101', 'picnic', 'confus', 'birthdaaayyy', 'michel', 'linda', 'hive', 'buy', 'im', '1nonli', 'timetunnel', 'sorrryyi', 'monday', 'imper', 'budapestgp', 'cara', 'lisa', \"labour'\", 'paw', 'dard', 'choppi', 'tla', 'etienn', 'vr', 'photoshoot', 'corey', 'deleg', 'playstat', 'problem', 'poor', 'est', 'bloi', 'yayyy', 'giant', 'climatechang', 'manthan', 'amber', 'jlover', 'ensur', '☺', 'patienc', 'prepar', 'mecha-totem', '190cr', 'pathor', 'awuuu', 'jhezz', 'giveitup', 'bloodi', 'sumedh', 'devic', 'soobin', 'flaw', 'scientist', 'thessidew', 'download', 'manteca', ':-(', 'snark', 'viparita', 'belieb', 'dine', 'sunway', 'privileg', 'giachietittiwed', 'mateo', 'rewatch', 'oth', 'uuughhh', 'hushedpinwithsammi', 'yippee', 'h', 'ughh', 'switzerland', 'ashwathi', 'stomach', 'fri', 'bebravetoday', 'newli', 'ocean', 'rid', 'pglcsgo', 'himmat', 'dipikirin', 'upcom', 'canopi', '😤', 'stretch', 'mail', 'le', 'bluejay', 'mous', 'tub', 'tlist', 'lose', 'rajnigandha', 'creed', 'ao', 'fond', 'fulli', 'ginger', 'pluckersss', 'behind', 'shade', 'dreamili', 'els', 'pot', 'igersoftheday', 'crystal', 'cilic', '42', 't20', 'rob', 'pearl', 'calibraskaep', 'de', 'anybodi', 'ii', 'gibanica', 'motherfuck', 'insomnia', 'huxley', 'bitti', 'mapbox', 'raspberri', 'crowdfund', 'pressreleas', 'gibran', 'imo', 'progress', 'along', \"he'll\", '😘', 'gayi', 'hashbrown', 'mockingbird', 'prove', 'muchhh', 'educ', 'nz', 'viner', 'mask', 'troll', 'situat', 'pefumeri', 'ace', 'dutch', 'tcot', 'k3g', 'chocol', 'getthescoop', 'jasper', 'storm', 'ideal', 'remast', 'marti', 'natgeo', 'sweeti', 'labour', 'guy', 'xxxibmchll', 'via', 'boxroomcraft', 'hurray', 'yasss', 'hollywood', 'academ', 's2e12', 'sulk', 'legend', 'drone', 'claw', 'areadi', 'twin', 'faaabul', 'surpris', 'besst', 'pierc', 'prisss', 'kami', 'fuckboy', 'toward', \"would'v\", 'wear', 'po', 'hamster', 'matt', 'cupboard', 'neither', 'lew', '4:20', 'bnte', 'krystal', 'willlow', 'deathcur', 'kennat', 'abuti', 'colin', 'milano', 'tx', 'cwnt', '😁', 'tall', 'approv', 'hammi', 'north', 'lwwf', 'trouser', 'theori', 'stationari', 'concept', 'elit', 'etern', 'coincid', 'book', 'yoga', 'after-work', 'bringmethehorizon', 'appli', 'debacl', 'gottolovebank', 'zack', 'stexpert', 'benedictervent', 'canaria', 'cali', 'mca', 'hannib', 'x41', \"r'ship\", 'abt', 'gone', 'anghel', 'marrickvil', 'thoracicbridg', 'playin', 'defenc', '•', '😟', 'kikhorni', 'mwah', '07:24', 'wala', 'wth', 'contrast', 'mommi', 'syru', 'realoshi', \"standen'\", 'skrillah', 'ikea', 'ejayst', 'gwd', 'graphicdesign', 'donetsk', 'wahahaah', 'archdbanterburi', 'struck', 'decid', 'boughi', 'ju', 'em-con', 'ps', 'hungri', 'lani', 'c64', 'phulani', 'x2', 'workinprogress', 'fittest', 'ella', '547', 'grumbl', 'awuna', 'sjw', 'expert', '452096', 'soul', 'mypark', 'queen', 'pon', 'phela', 'hearess', 'buttonhol', 'shweta', 'bulldog', 'summerismiss', 'draw', 'game', 'selekt', 'thankyou', '🍰', 'thug', 'immun', 'somewher', 'ha-ha', 'akooo', 'ripsandrabland', 'wheel', 'jillcruz', 'fuckkk', 'dagga', 'sri', 'push', 'riski', 'sowwi', 'elf', 'ic', 'imysm', 'sed', 'chilton', 'mash', 'hopeless', 'pick', 'bea', 'delphi', 'sonal', 'french', 'fav', 'tablet', 'saffron', 'antonio', 'hah', 'daisi', 'feb', \"j'\", \"jack'\", \"q'don\", 'aarww', 'butter', 'skinni', 'travel', 'combat', 'gana', 'kikmeboy', 'gaya', 'crazi', 'number', 'listen', 'jah', 'pussycat', 'headack', 'remain', 'k', 'excus', 'webcamsex', \"scheuermann'\", 'mubark', 'bom', 'sotir', 'rihanna', 'nag.greet', 'familiar', 'yeahh', 'dayz', 'cushion', 'ooop', 'baao', 'kamiss', 'للعودة', 'scheme', 'stargat', 'aisyah', 'back', 'send', 'istg', 'fluent', 'skip', 'ucl', 'countdown', 'sidni', 'finnair', 'slay', 'ant', 'niall', 'whisper', 'eidwithgrof', 'gidi', 'gawd', \"night'\", 'publish', 'memor', '444', 'tournament', 'novemb', 'basic', 'wont', 'zzz', '737bigatingconcert', 'debt', 'shiiitt', '1hr', 'dr', 'indirect', 'drank', 'جمعة_مباركة', 'tp', 'sweetan', 'grumpi', 'flapjack', 'attitud', 'closer-chas', 'pup', 'wrocilam', \"doedn't\", 'lukri', 'mass', 'grotti', 'none', 'yacht', 'aspect', 'sooo', 'congrat', 'wit', 'suitabl', 'pausetim', 'rescoop', 'exp', 'report', 'huehu', 'argo', 'hse', 'shower', 'tweak', 'shannon', 'tacki', 'sizw', 'd;', 'hella', 'finddjderek', 'ai', 'toy', 'top', 'hang-copi', 'swear', \"they'd\", 'tomorrowland', 'alma', 'kapima', 'thur', 'grt', '💦', 'taybigail', 'fback', 'mighti', 'wayanadan', 'horrif', 'motor', '0-100', 'gleam', 'lng', 'shaaa', 'tab', 'havuuulovey', \"fatma'm\", 'koel', 'stumbl', 'pub', 'harder', 'parkshar', 'freez', 'mia', 'mba', 'disney', 'paperboy', 'mmm', 'offic', 'cuss', 'io', 'dheena', 'url', '4like', 'bacon', 'karin', 'arond', 'ff__special', 'network', 'id', 'masaantoday', 'twoof', 'honey', 'kuchar', 'muller', 'spanner', 'search', 'infect', 'whsmith', 'bencher', 'granni', 'gla', \"t'exist\", 'hahahahahaah', 'beverli', 'leagu', 'paint', 'kansai', 'otani', 'dj', 'kunoriforceo', 'isp', 'yumu-youtub', 'sight', 'teeth', 'kaytranada', 'achiev', 'journeyp', 'sensiesha', 'viabl', 'feetblog', 'help', 'dosa', '=d', \"ted'\", 'atk', 'chri', 'stuck', 'impecc', 'ure', '15th', 'kindergarten', 'cramp', 'theocrat', 'borrow', \"phoebe'\", '510', 'skoy', 'atla', 'spag', 'german', 'x7', 'isnt', 'comfi', 'specialis', 'up', 'lightbox', '16', 'hozier', 'stayfresh', '. . .', 'jcreport', '1645', 'fear', 'pud', 'nakamaforev', \"i'mo\", 'mych', 'dnt', 'dominion', 'follow', 'bakar', 'boat', '100reasonstovisitmombasa', 'enix', 'unmarri', 'demo', 'shor', 'elsa', 'current', 'sudden', 'energi', 'countri', '╲', 'medic', 'pale', 'smoak', 'sad', \"callie'\", 'sembuh', 'sam', 'fought', 'rise', 'win', 'civ', '4:15', 'gc', 'yk', 'ohmygod', 'ga', 'rodfanta', 'benson', 'cup', 'cheerio', '24/7', 'shirt', 'rhi', 'discharg', 'tae', 'headphon', 'yepp', 'tumour', '️', 'penrith', 'midnight', 'again.ensoi', 'dosto', 'realiti', 'itter', 'woman', \"nando'\", 'vscocousin', 'buckinghampalac', 'tamang', 'affaraid', 'rang', 'mere', 'iren', 'bring', 'confisc', 'oppress', 'whatsoev', 'vibrant', 'badg', 'tbh', 'upper', 'ventur', 'azz-set', 'version', 'west', 'hk', 'transcript', 'sit', 'hot', 'scotland', 'muahhh', 'freedom', 'cass', 'elmhurst', 'overweight', 'lan', 'asf', 'puppi', 'bunni', 'lewi', 'blarney', 'pancak', 'btob', \"kareena'\", 'slack', 'kany', 'instead', '7.30-', 'cousin', 'juudiciari', 'collabor', 'nicknam', 'photocard', 'fnaf', 'exe', 'greska', 'truth', 'action', '인피니트', 'key', 'make-up', 'fuuuck', 'funcionar', 'flume', 'heal', 'x30', 'sweet', 'latinhous', 'unfav', 'min', 'bond', 'pretti', 'journey', 'ada', 'sneaker', 'bruce', 'vike', 'sarcasm', 'vertigo', 'mood-dump', 'yan', 'beauti', 'needicecreamnow', 'simpl', 'papa', '10-20', 'resourc', 'angle.nelson', 'lowbat', 'motorsport', 'order', 'cocki', 'vic', 'nisrina', 'ident', 'doubl', 'tweet', 'yippe', 'anot', 'takraw', 'miami', 'pleaaas', 'fifth', 'insan', 'ate', 'mclaren', 'ran', 'np', 'afang', \"morisette'\", 'pounc', 'explan', 'acoust', 'deathofgrass', 'johnyherbert', 'kart', 'atti', 'percentag', 'trip', 'hih', 'mice', \"old'\", 'on-board', 'plea', 'fe14', 'wnt', 'laura', 'cowork', 'sexcam', 'obstacl', 'guitar', 'pegel', 'yorkshir', 'band', 'lip', 'सेँ', 'edit', 'rave', '⚡', 'wisdom', 'braindot', 'doh', 'aval', 'chweet', 'greg', 'v.ball', 'kiksext', 'nagsend', 'cc', 'mixcloud', 'onkey', 'certif', 'preview', 'thou', 'makeup', 'inconsider', 'tdi', 'chinua', 'pine', 'everyth', 'zenmat', 'wooohooo', 'tragedi', 'shiatsu', 'dun', 'poc', 'txt_shot', '👉', 'savanna', 'netfilx', 'brk', 'umma', 'summertim', 'tunaita', '19:30', \"mom'\", 'femin', 'wkwkw', 'dan', 'all', 'plot', 'inca', 'rp', 'set', 'yako', 'faster', 'angri', 'fwm', 'sadomasochistsparadis', 'sandwich', 'srski', 'kisi', 'begin', 'ye', 'pyaari', 'blog', 'rand', 'mka', 'sel', 'heartach', 'blameshoghicp', '😌', 'buynotanapologyonitun', 'mesh', 'girli', 'christi', 'burnt', 'pregnant', 'full', 'stun', 'ce', 'low', 'yumyum', 'u21', '9muse', 'secret', 'smashingbook', 'seven', 'shogi', 'gan', 'yosh', 'b', 'nite', 'obvious', 'movement', 'freya', 'acn', 'repli', 'instal', 'yea', 'caaannnttt', 'bruis', 'jilla', 'bunso', 'olivia', 'x38', 'fenja', 'nad', 'annoyingbabi', 'kiya', 'eugh', 'cloth', 'lymond', 'meee', 'aaj', 'other', 'refurbish', 'heyi', 'marshmallow', 'day', 'opi', 'camillu', 'chel', 'dhaka', 'b-but', 'slr', 'tamesid', '♬', 'among', 'starholicxx', 'parti', '😬', 'jonginuh', 'shout', 'hide', 'sooth', 'goodmus', 'yeap', 'publiliu', 'woodford', 'tama', 'ha', 'hiya', 'counti', 'deep', 'despond', 'froze', 'mint', 'ryan', 'swag', 'courag', 'notgonnabeactivefor', 'sleepdepriv', 'pretzel', 'vc', 'fulton', 'gent', 'ty', 'hotwheel', 'datz', '___', 'patti', 'almost', '78x', 'leia', 'aww', 'thick', 'hospit', 'ya', 'conni', 'taxonom', '120', 'fm', 'rize', 'gud', 'station', 'alchemist', 'qt', 'research', 'server', 'murder', 'occas', 'roommateexperi', ';-)', 'plug.dj', 'confer', 'tool', 'hugh', 'get', 'mumma', 'rlyhurt', 'messeng', 'marseil', 'oct', 'pfb', 'ladolcevitainluxembourg@hotmail.com', 'fatal', 'pakistani', 'hundr', 'jeep', 'karibumombasa', 'onscreen', '✔', 'refin', 'ferdou', 'thr', 'occasion', 'frudg', 'encourag', '2k15', 'genesi', 'arini', 'humanist', 'wowww', 'spend', 'justi̇n', 'contectu', '23rd', 'lahhh', '336', 'hastili', 'latest', 'shaun', 'del', 'reus', 'streamer', 'sociamedia', 'robe', '😕', 'trespass', 'cosa', 'outrag', 'talk-kama', 'fyn', 'shet', 'nanci', 'phil', 'colombia', 'whack', 'giddi', 'ｍｅ', 'hack', 'grindea', 'thehungergam', 'toe', 'doin', 'apb', 'void', 'abouti', 'sushi', 'sd', 'on-pack', 'spanish', 'afridi', 'ivi', 'hotfmnoaidilforariana', '1k', 'bek', 'liceooo', 'thwart', 'manuella', \"mommy'\", 'emili', 'import', 'where.do.i.start', 'yung', 'taray', 'infrar', 'tose', 'leg', 'shauri', 'nk', '..', 'lart', 'phonegraph', 'males', 'scene', 'circuscircu', 'basi', 'uu', 'airfield', 'st', 'hub', 'thnkyouuu', 'ngeze', 'ladder', 'lukkke', 'oscar', 'cakehamp', 'ig', \"california'\", 'error', 'cactu', 'talkback', 'avail', 'tommorow', 'contend', 'accident', 'cross', 'haizzz', 'wagga', 'mehtab', 'zac', 'dekhi', 'foodiefriday', 'belgium', 'timog', 'nigg', 'saphir', 'maryhick', 'jummamubarak', 'broadcast', 'yo', 'hardest', 'kanina', 'grepein', 'gari', 'x19', 'swerv', 'glare', 'annual', 'replenish', 'tryna', 'swan', 'blood', 'point', '748292', 'leannerin', 'phrase', 'readi', 'name', 'seriou', 'bein', 'absent', 'ac', 'conserv', 'babysit', ':(', 'beb', 'maxfreshmov', 'secur', 'water', ';p', 'ervin', 'tree', 'went', 'daal', 'liza', 'mauliat', 'pie', 'overdrawn', 'hagergang', 'kbye', 'prami', '344', 'ultim', 'denis', 'jolli', 'articl', 'though', 'abby.can', 'recip', 'eonni', 'lion', '338', 'particularli', 'true', 'skill', 'creepi', 'fugli', 'without', 'hangout', 'born', 'aint', 'vale', 'krta', 'bilal', 'budget', '000', 'working-on-a-tight-schedul', 'bbz', 'japanes', 'th', 'benchmark', 'arma', 'hatr', 'monster', 'gain', '45gameplay', '🌃', '2hr', 'eeep', 'phew', 'thark', 'stream', 'togeth', 'xenophob', 'tennunb', 'felt', 'fruiti', 'peregrin', 'lush', 'met', 'sore', 'weak', 'me.so', 'thermal', 'upsid', 'bundl', 'repres', 'tini', 'audit', 'kuch', 'inshallah', 'gay', 'anniversari', 'sock', \"i'm\", 'sunburn', 'goldbug', 'diagnos', 'ek', 'anoth', 'persuad', 'remarriag', 'schoolwork', 'erit', 'avoplex', 'ndee', 'julia', 'macauley', 'x8', 'limpopo', 'charm', 'sarah', 'robinhood', 'gh', 'amassiveoverdoseofship', 'phl', 'park', 'bna', 'hua', 'wash', 'holiday', ':)', 'singl', 'superday', 'employ', 'domest', 'rodwel', 'mexico', 'wonderful.great', 'guzel', 'juici', 'muster', 'louisianashoot', 'sheeran', 'oper', 'nigga', 'complain', 'friday', \"ain't\", 'laugh', 'untap', 'shiva', 'focu', 'samsung', 'aaag', 'wirh', 'inter', '340', 'regard', 'mandela', 'mypapamyprid', 'black', 'sunnyday', 'pri', 'lazyweekend', '23', 'danger', 'h8', 'madi', 'encompass', 'newbi', \"friday'\", 'pabeb', 'r', 'berigaud', 'young', 'chao', 'sentir-s', 'tone', 'pre-holiday', 'bracelet', 'smooth', '. ..', 'isra', 'driver', 'fatigu', 'aqui', 'manila', 'still', 'pad', 'x24', 'bawi', 'haiss', 'ludlow', 'bebee', 'vacat', 'craaazzyy', '):', 'digit', \"kath'd\", 'signal', 'max', 'rofl', 'brook', 'showbox', 'awar', 'helsinki', '1000', 'lu', 'blowjob', 'wiw', 'genr', 'bare', 'mochamichel', 'ubud', 'lloyd', '6', 'denmark', 'prelim', 'chill', 'oki', 'evan', 'arriv', \"lady'\", 'ad', 'manzano', 'cs', 'narrow-mind', 'part', 'idol', 'jaspernationalpark', 'rocro', 'end', 'pegea', 'releas', 'prophet', 'rout', '132', 'prexi', 'ign', 'venu', 'jerk', 'sulli', 'awel', 'decor', 'lang', 'folow', 'promis', 'brotherhood', 'html', 'beanatividad', 'chesti', 'ms', 'hotti', 'expir', 'debat', 'nim', 'sandrabland', \"kinara'\", 'distanc', 'boyirl', 'quot', 'lib', 'gern', 'gandhi', 'semi', 'transmiss', 'boi', '590', 'nux', 'adida', 'mashup', 'bapak', 'porch', 'steal', 'unreal', 'buset', 'pun', 'sued', 'wrip', 'kindli', 'outdoor', 'fail', 'balloon', 'etc', 'gagal', 'baz', 'wacha', 'curv', 'wana', 'seafood', 'roux', 'bosen', ':|', 'sweetest', 'portug', 'mine', 'hyper', 'wellington', 'smthng', 'growl', 'uncl', 'thru', 'mairi', 'appeas', 'pala', 'shiiit', 'icu', 'infirm', 'thek', 'usag', 'alienthought', 'skulker', 'hoodi', 'oley', '333', 'lmfaooo', 'alarm', 'sharp', 'spare', 'konga', 'luceleva', '5minut', '👆🏻', 'coff', 'app', 'in-shaa-allah', 'balkan', 'rib', 'interest', '💞', 'cigar', 'garag', 'kawaii', 'omegl', 'autofollow', 'emon', 'grim', 'bengali', 'thencerest', 'anytim', 'parijat', 'ttctop', 'local', 'discov', 'write', 'benni', 'zamn', 'manner', 'walk', 'milkshak', 'aditya', 'chalna', 'weather', 'appreci', 'enabl', 'manush', 'vomit', 'older', 'essenti', 'philippin', 'tierd', 'popol', 'breakfast', 'wayanad', 'hahahaha', 'pdf', '490', 'consumer', 'loveli', 'bridesmaid', '💃', 'secondari', 'occur', 'choma', 'pet', 'rmtour', 'toler', 'hairpin', 'caribbean', 'piggin', 'shoutout', 'individu', 'hickey', '👑', \"mit'\", 'island', 'march', 'laser-lik', 'fraand', '2:22', 'beato', 'ps3', 'sakit', 'stuffi', 'babi', 'nash', 'siannn', 'couch', 'besi', ':\\\\', 'heyyy', 'obamainkenya', 'carpet', '07:32', 'meme', 'manchest', 'anxieti', 'job', \"second'\", 'cnn', 'diyflow', 'follback', 'victori', 'youth@bipolaruk.org.uk', 'septemb', 'appa', 'blacklivesmatt', 'soon', 'barkkkiiidee', 'tile', 'incal', 'warmest', 'nasti', 'naaan', 'home', 'joy', 'ifsc', 'c', 'mbc', 'mute', 'momo', '2016', 'backup', 'hanbin', 'suzan', 'pinkeu', 'bun', 'sn16', 'fightingmciren', 'kadhafi', 'indiankultur', 'editi', 'marino', '2week', 'didnt', 'puhon', 'anyon', 'manag', 'sheffield', 'featur', '1:30', 'preciou', 'stockholm', 'xfile', 'appendix', \"i'll\", 'laomma', 'amelia', 'what', 'lagi', 'faint', 'korea', 'gamedev', 'dayofarch', 'anz', 'baymax', 'dedicatedfan', 'brand', '</3', 'agil', 'lure', 'schade', 'coupl', 'nominier', 'knock', 'hush', '0330 333 7234', 'ariel', '–', 'imiss', 'bohol', 'bakit', 'banat', 'candi', 'alliter', 'goa', 'eagerli', 'insid', 'rubber', 'chaloniklo', 'ouat', 'umair', 'blew', 'warehous', 'sarajevo', 'clicksco', 'atp', 'oil', 'jenna', 'row', 'lawnmow', 'weloveyounamjoon', 'yayi', \"be'\", 'piss', 'pake', 'wew', 'nutella', 'dw', 'snapchatm', 'tom', 'tinder', 'hike', 'shinsengumi', 'mam', 'hushedcallwithfraydo', 'ask', \"joe'\", 'pose', 'opossum', 'rock', 'instruct', 'desper', 'semest', 'pkwalasawa', 'anatomi', 'upload', 'merch', 'mb', 'despair', 'particip', 'deennya', 'meal', 'marmit', 'jb', 'session', 'piti', 'histori', 'dad', 'battlefield', 'getwellsoonamb', 'nickyyi', 'yein', 'centuri', 'overwhelm', 'london', 'imveryverysorri', 'mobitel', 'awesom', 'video', 'mid-end', 'paindo', 'stat', 'sequel', 'panel', 'jace', 'bookmark', 'great', 'wet', 'quiz', 'brewproject', 'grasp', 'hatee', 'sirf', '64', 'nocturn', 'lage', 'elizabetholsen', 'reynold', 'roof', '3a2ad', 'luci', 'avoid', 'unlucki', 'public', 'wasp', 'dangit', 'heat', 'love', 'dialogu', 'intent', 'yeyi', 'kilig', 'field', '00', 'appoint', 'puddl', 'lorenangel', 'sunnah', 'anim', 'longgg', '🍅', 'interraci', 'nighti', 'hello', 'nez', 'overload', 'larg', 'amtir', 'obama', 'aayegi', 'nhi', 'ont', 'jelous', 'twelvyy', 'cuddl', 'cala', 'nagato', 'andr', 'post', 'micro', 'iqbal', 'hour', 'chainsaw', \"athena'\", 'gameplay', 'self', 'daddi', '😩', 'abl', 'hd', 'smoke', 'sturdi', 'sadlyf', 'exam', 'studio', 'elsewher', \"robert'\", 'admin', 'replay', 'gf', 'u', 'format', 'mahnor', 'lfccw', 'mom', '🌞', 'bath', 'bayan', 'parent', 'img', 'thorin', 'witcher', 'pong', 'lagiii', 'sunglass', 'whatsapp', 'woohyun', 'forklift', 'popcorn', \"i'd\", 'sins', 'talaga', 'eunha', 'famili', 'homework', 'omgg', 'dbn', 'h_my_k', 'citi', 'insidi', 'amargolonnard', 'deserv', 'ill', 'away', 'zdp', 'capcom', 'wast', '11am', 'urself', 'kikchat', 'career', 'font', 'pic.twitter.com/jxz2lbv6o', 'diff', 'hoya', 'shropshir', 'hahahay', 'beer', 'sebastian', 'simon', '🙈', 'winner', 'topnewfollow', 'caradelevingn', 'rogerwatch', 'welder', 'daughter', 'lago', 'tension', 'pesaro', 'stetson', 'rockfish', 'thooo', '🐒', 'manni', 'model', 'classic', 'non', 'haix', 'goin', 'happybirthdayemilybett', 'teen', 'gaza', 'se', 'lockscreen', 'dancee', 'rare', 'stocko', 'boss', 'aaron', 'bcaus', 'bailey', 'burger', 'soup', 'hajur', 'nh', 'sighsss', 'ip', 'nein', 'kca', '12th', 'subsid', 'gobigorgohom', 'cruel', 'inspir', 'necessari', 'tidi', 'puffi', 'flickr', 'flash', 'partner', 'fuzzi', 'funer', 'chorong', 'mcfc', 'issu', 'mhhh', 'liv', 'leicaq', 'cess', 'billionair', 'suuuper', 'ji', 'abscess', 'owl', 'subsidi', '5', '10:17', '--->', 'owe', 'luxuri', 'determin', 'loveofmylif', 'prey', 'qih', '24', \"php'\", '6g', 'mtn', 'either', 'nomoney', 'pj', '5ever', 'earn', 'ed', 'left', 'plagu', 'runni', 'panic', 'jannatul', 'corrupt', 'fa', 'creativ', 'emul', 'barkin', 'code', 'madonnafamili', 'brolli', \"australia'\", 'carva', 'mysumm', '5pm', 'starsquad', 'proprieti', 'wese', 'cell', 'lovabl', 'rocket', 'magnific', 'that', 'congratz', 'messag', 'dormmat', '14518344', 'convict', 'elgato', 'mbasa', 'cheatday', 'yummmyyi', 'stem', 'sugarrush', 'certainti', '1/2', 'friendli', \"i't\", 'femal', 'experienc', 'eksperimencinta', \"beach'\", 'actual', 'pour', 'elah', 'letsprocrastin', 'host', 'geekiest', 'advaddict', 'jame', 'repair', 'motiv', 'merced', 'within', 'nooo', 'emot', '20min', 'couldv', 'muertosatfring', 'wowza', '150', 'scout', 'icon', 'zara', 'smelli', '07:34', 'dammit', 'gallon', 'buckl', 'misundersrand', 'intellectu', 'dangl', 'badli', 'népal', 'pill', 'bewar', 'spacer', 'imitatia', 'veriti', 'yg', 'riri', 'rotorua', 'ole', \"urie'\", 'rate', 'pain', 'choke', 'holist', '2suppli', 'mexican', '9-11', 'mobilegam', 'trick', 'grandma', 'olur', 'cont', 'spain', 'shine', '1', 'chip', 'cocktaili', 'zant', 'tombraid', 'gangster', 'leftov', 'ouch', 'kaya', 'bestoftheday', 'cosmovis', 'darcey', 'justinbieb', 'sinuend', 'will', '19', 'notion', 't20blast', 'ljp', 'shit', 'truthfulwordsof', 'visual', 'cop', 'taco', 'charismat', 'aaaahhh', 'ah', 'pete', 'comeback', 'entp', 'deya', '3point', 'ee', 'wife', 'mamma', 'amus', 'pliss', 'mara', 'zy', 'youthcelebr', 'reserv', 'mussel', 'photograph', 'loftey', 'sbenu', 'skye', 'jane', 'uff', 'ell', '«', 'lass', 'whatev', 'us', 'ulit', 'greatest', 'tud', 'tv', 'mj', 'teenag', '68', 'railway', 'burdensom', 'air', 'abstin', 'law', 'plugin', 'trish', '>:)', '🎵', 'harryxhood', 'jelli', 'overcast', 'bed', 'jumma_mubarik', 'netherland', 'coursework', 'razi', 'china', 'theater', 'fna', 'devast', 'outstand', 'cafe', 'endeavour', 'product', 'fest', 'friooo', 'man', 'drinkt', 'clutch', 'promo', 'teal', 'mne', 'beast', 'headlin', 'ti5', 'lab', 'bandung', 'gegu', 'yaya', 'seehiah', 'ball', 'mcflurri', 'syawal', 'fli', 'rad', 'kale', 'm20', 'theatr', '╰', 'happinesss', 'fade', 'awwhh', 'ftw', 'disappear', 'basketbal', 'catch', 'women', 'reservations@sandsbeach.eu', 'woot', '30th', 'samee', 'zone', 'amazon', 'iph', 'bakewel', 'workshop', 'hash', 'yuki', 'lunch', 'pinkfinit', '2', \"sod'\", 'iso', 'premiun', 'ho', 'all-clear', '2k', 'megan', 'cypru', 'role', 'milo', '∞', 'hol', 'sponsor', 'wheelchair', 'hardli', 'healthylifestyl', 'abus', 'africa', 'pasha', 'bore', 'discrimin', 'jalulu', 'xue', 'monica', 'restart', 'bruh', 'fic', 'siregar', 'darlin', 'cayton', 'brake', 'insta', 'loner', 'ooohh', 'webcam', 'noon', 'kikgirl', 'manli', 'dandia', 'fasgadah', 'scarf', 'oven', 'sunshin', 'power', 'pebbl', 'igbo', 'hopey', 'sex', 'nun', 'coz', 'myhil', 'jp', '777x', 'p2', 'mui', 'torrentialrain', 'distribut', 'liquoric', 'sinaloa', 'beardi', 'w', 'gotten', 'cyclerevolut', 'cajun', 'dorset', 'whereisthesun', 'neon', \"we'r\", 'wz', 'zaz', 'bachpan', 'you-and', 'licenc', 'asap', 'hong', 'gee', 'uhuh', 'height', 'clark', 'rata', 'alansmithpart', 'xoxoxo', \"how'\", 'dang', 'thegrandad', 'aa', '2/3', 'hotmusicdeloco', 'prolli', 'anyway', 'joc', 'assess', 'hotnsexi', 'circl', 'thaank', 'flip', 'expel', 'jail', 'scroll', 'teenchoic', 'petrol', 'martin', 'nativ', 'angel', 'madonnafan', 'robin', 'bless', 'fudg', 'beautiful', 'lungomar', 'straight', 'deantd', 'askfinnick', 'lmbo', 'x39', 'helppp', 'pressur', 'romant', 'acid', 'windowsphon', 'argu', 'buri', 'cock', 'littl', 'coin', 'univers', 'superdri', 'lorna', 'taissa', 'teribl', 'saam', 'wreck', 'tori', 'obituari', 'sharethelov', 'pirouett', 'afghanistn', 'deni', 'specif', 'tenerina', 'marathon', 'sandra', 'quad', 'endlessli', 'postpon', 'harap', 'made', 'perhap', 'type', 'thesi', 'replac', 'allerg', \"where'\", 'coat', 'resid', 'await', 'kurt', 'argh', 'indian', 'earli', 'halfway', 'minhyuk', 'spree', 'wardrob', 'smart', 'mister', 'hallo', 'tote', 'pero', '4leader', 'wa', 'sexyameli', 'text', 'freebiefriday', '👊🏻', 'booset', 'weapon', 'idaho', 'lowest', 'bone', 'sa', 'onward', 'convo', 'ambros', 'hopper', 'cynic', 'yester', 'lie', 'leas', 'hopehousekid', 'picki', 'ahh', 'vagina', 'episod', 'whatchya', 'hire', 'user', 'find', 'etl', 'dewsburi', 'doodl', 'timezon', '2ish', 'sorna', 'iceland', 'karachi', \"it'okay\", 'dunwan', 'isaac', 'kahfi', 'gohf', 'minecon', 'shoushitsu', 'winchest', 'loyal', 'rape', 'x22', 'donington', 'audienc', 'basenam', \"masha'allah\", 'shravan', 'vianey', 'okay-ish', 'cheek', 'magisa', 'sens', '98', 'fact', 'verit', 'ridden', 'inhal', \"angelo'\", 'फिर', 'greet', 'leav', 'tombow', 'naya', 'oreo', 'athabasca', 'hornykik', 'jaya', 'store', 'hellish', 'punt', 'al_master_band', 'randi', 'crop', 'node', 'twitch', '6th', 'shoulder', 'tweng', 'halsey', 'bikini', 'viva', 'okayyy', 'kita', 'choregraph', '62', 'mayhem', 'dish', 'media', 'broken', 'wii', 'willmissyouparijat', 'kpop', 'meth', 'wendi', '-->', 'era', '886', 'miracl', '<3', 'choreo', 'dri', 'scurri', 'excel', 'want', 'serious', 'eu', 'spoil', 'bbmme', 'mapl', 'habhab', 'typo', 'b4', 'auto-focu', 'paralyz', 'perfect', 'contractu', 'grogol', '341', 'shuffl', 'indiemus', 'ging', 'huhu', 'happpi', 'nak', 'ug', 'crimin', 'immigr', 'livi', 'thw', 'addicted-to-analsex', 'crypt', 'montoya', 'dipsatch', 'neat-o', 'announc', 'swollen', 'kamaal', 'fit', 'badlif', 'flint', 'homey', 'chosen', 'fcking', 'loneliest', '156', 'sweeeti', 'wild', 'ayala', 'learn', 'wingstop', 'ray', 'letitgrow', 'toss', 'loool', 'ligo', 'half-rememb', 'first', 'kian', 'garlic', 'daianerufato', 'catspj', 'shite', 'abbymil', '43', 'urgh', 'carriag', 'a5', 'ansh', 'afford', 'shed', 'bierc', 'kat', 'plusmil', 'irresist', '6pm', 'safe', 'suggest', 'mani', 'window', '👍', 'thunderstorm', 'sadomasochist', 'client', 'crazyyi', '32429', 'sadkaay', '9', 'sch', 'vikk', 'equalityact', 'deal', 'finalist', 'shaa', 'makesm', 'treat', 'grate', 'pussi', 'preval', 'newyork', 'region', 'flew', 'yoot', 'lord', 'slap', 'instamood', 'brow', 'wi', 'ship', '20th', '─', '9pm', 'cimbom', 'dog', '343', 'euuuwww', 'softbal', 'nage', '11pm', 'skeem', 'upp', 'burek', 'nia', 'mornin', 'extra', 'obakeng', 'refer', 'newmus', 'msged', 'except', 'bump', 'scold', 'gelen', 'awak', 'iov', 'nfinit', 'frequentfly', '7df9e60a', 'modifi', 'senight', 'pin', 'mimi', '609', 'pen', 'hanabutl', '4:13', 'tyler', 'aigooo', 'mag', 'nostalgia', 'entri', 'randomreboot', 'tuna', 'friskyfriday', 'cheat', 'need', 'pe', 'drainag', 'jack', 'naaahhh', 'huski', 'x31', 'kleper', 'sold', 'sting', 'champagn', '339', 'kyle', 'wtfff', 'awkward', 'whaaat', '⭐', 'hooh', 'karlia', 'nic', 'big', 'affect', 'humphrey', 'bird', 'heheheh', 'baller', 'bruhhh', 'talk', '50.000', 'junhe', 'line-up', 'penthous', 'ago', 'huvvft', 'perfum', ':/', 'grandpa', 'rancho', 'swap', 'ngucapinnya', 'todayi', 'chelni', 'starv', 'uwes', 'annnd', 'castl', 'next', 'oop', 'cue', 'ingat', 'acorn', '←', '4th', 'expect', 'hasb', 'belli', 'nt4', '2:30', 'japan', 'fresherstofin', 'tdc', 'standbi', 'djstruthmat', 'lmao', 'phenomen', 'quiet', 'regret', 'etsi', 'ineedfeminismbecaus', ';(', 'goodtim', 'wru', '320', '♛', 'stand', 'dime', 'ground', 'shawti', 'verfi', '18c', 'kristin', 'muahah', 'link', 'bag', 'protect', 'imran', 'submiss', 'screencap', 'polit', 'scare', 'hellooo', 'sigeg', 'ericavan', 'amount', 'b2c', '👏', 'tkt', 'x21', 'head', 'bot', 'chariti', 'arrest', 'pehli', 'acad', 'notic', 'eid', 'nuka', 'spinorbinmusicxcodysimpson', 'nike', '3/10', 'appear', 'hangin', 'mtaani', 'viber', 'remov', 'someon', 'wed', '01482', 'iflix', 'plu', 'dongwoo', 'bali', 'vidic', 'richard', 'tomorrow', 'gon', 'tagsforlik', 'introduct', 'origin', 'مطعم_هاشم', 'fuq', 'outli', 'raini', 'fucjikg', 'member', 'weltum', 'danc', 'cannot', 'soccer', 'dishoom', 'healthier', 'lice', 'properti', 'soshi', 'naa', 'august', 'mz', 'jacket', 'applic', 'contest', 'msc', '🎈', 'tim', 'notcool', 'rito', 'wait', 'pilllow', 'nowher', 'ja', 'color', 'bristolart', 'gwss', 'itsamarvelth', 'caesarspalac', 'thusi', 'pass', 'jealou', 'warranti', 'million', 'lone', 'aim', 'bani', \"michael'\", 'aragalang', '🚖', 'chicsirif', 'yield', 'yna', 'mustread', 'yt', 'amaz', 'unfollow', 'degre', 'sour', 'engag', 'thta', 'soap', 'jokingli', 'silicon', 'delph', 'time', 'spick', 'environ', 'relief', 'ugh', 'steam', 'x3', 'mojo', 'hihihi', '☔', 'nightmar', 'foundat', 'testicl', 'everon', \"venus'\", 'subserv', 'psygustokita', 'tseba', 'woe', 'telecom', '2nd', 'deathbybaconsmel', 'pier', 'no1', 'loui', \"she'd\", 'slipper', 'concordia', 'tail', '1400', 'sali', 'understand', 'vam', 'halesowen', 'smu', '{:', 'plezzz', 'starter', '에이핑크', 'ooooh', 'explor', 'khan', 'audraesar', 'luke', 'pictur', 'unpar', 'chat', 'worri', '⅛', 'cpm', 'amat', 'kk', 'x33', 'hinala', 'laguna', 'heartbreak', 'werk', 'fancaf', 'kinick', 'coffee-weekday', 'kebab', 'you', 'neng', 'standard', 'goodmorn', 'photoshop', 'root', 'american', \"david'\", 'arsen', 'natsuki', 'chop', 'walkin', 'ou', 'बार', 'vinylbear', 'rehears', 'nothaveld', 'institut', 'macci', 'adf', 'lc', 'dire', 'everytim', 'a7la', 'nadal', 'brace', 'tyre', 'oo', 'crackl', 'anthem', 'doom', 'kink', 'rice', 'firebal', 'mufc', 'koe', 'foampit', 'postiv', 'mug', 'virtual', 'screenshot', 'maricarljanah', 'p', 'aunti', 'lighter', 'gift', 'belt', 'auto-followback', 'batman', 'dont', 'moviemarathon', \"cinema'\", 'nowww', 'matsu_bouzu', 'plush', 'fenestoscop', 'narcissist', 'tip', 'mum', 'killin', 'kkk', 'nearli', 'he', 'lovey', '5s', 'vault', 'wi̇ll', 'nerv', 'teamadmicro', 'emta', 'wwe', 'jess', 'aha', '01:16', 'bit', 'jaann', 'trendi', 'up.wt', 'happili', 'amm', 'dunt', 'az', 'x45', 'ann', 'fckin', 'quacketyquack', 'inspi', 'norapowel', 'hotspotwithdanri', '00128835', 'migrant', 'peru', 'spirit', \"mine'\", 'एक', 'loop', 'mammoth', 'airport', 'cheeki', 'lotion', 'say', 'serbia', 'noe', 'ahead', 'playlist', 'temperatur', 'offici', 'prima', 'perf', 'homosexu', 'smi', 'somi', 'peter', 'fack', 'thrice', 'harlo', 'garden', 'squad', 'logo', 'najam', '331', 'disturb', 'germani', 'steve', 'yach', 'mend', 'packag', 'thurston', 'outboard', 'cart', 'penni', 'rakyat', 'interact', 'unfair', 'differ', \"what'\", 'maurya', 'pz', 'desk', 'emoji', 'viciou', 'congraaat', 'kayla', 'collar', 'elimin', 'normal', 'lynettelow', 'start', 'scouser', 'jordanian', 'aski', 'opix', 'pledg', 'bnf', 'button', 'innov', 'foood', '877', 'ncc', 'rear', 'minal', 'strong', 'farm', 'supersport', 'dissappear', 'bc', 'gig', 'gut', 'summer', 'sunflow', 'bought', 'oe', 'johnforceo', 'cori', 'yay', 'paysafecard', 'eyyah', 'flockstar', 'your', 'crei', 'tend', 'pijjabłka', 'industri', 'david', 'kik', 'comment', 'convent', '10:30', 'incred', 'tat', 'porsch', 'sanda', 'blackcountryfair', '1tb', 'nb', '＠', 'keepin', 'jokid', 'bugger', 'leica', 'uni', 'sorka', 'ctto', 'gear', 'anon', 'ddi', 'umaru', 'denim', 'posit', '🍸', 'repackag', 'piec', 'kinda', 'non-mapbox', 'gemma', 'kumbl', 'ass', \"chillin'with\", 'bee', 'ako', 'mymonsoonstori', 'aldub', 'asthma', 'hypercholesteloremia', 'acc', 'ku', 'recruit', 'bi', 'load', 'biom', 'dupa', 'bruno', 'vsco', 'howev', 'anal', '08962464174', 'wish', 'prime', 'arr', 'qui', '“', 'orchard', 'earlob', 'apologist', 'intern', 'tag', 'journo', '1pm', '01282', 'pou', 'setup', 'raven', 'co', 'hwi', 'sosweet', 'zoom', 'swt', 'input', 'emir', 'pair', \"everyone'\", 'kind', 'ihhh', 'compani', 'goal', '327', '_5_final_final_fin', 'dev', 'x4', 'brilliant', 'brijresid', '48', 'weddingflow', 'sin', '8th', 'jute', 'dose', 'canon', 'hola', 'unblock', 'nurs', 'unwind', 'naomi', 'icloud', 'beeti', 'jahat', 'europ', 'lepa', 'besteverdoctorwhoepisod', 'yaap', 'feet', 'pip', 'signatur', 'facebook', 'front', 'suay', 'bug', 'specially-mark', 'anymor', 'youu', 'yujin', 'scar', 'acha', 'she', 'willi', 'jaysu', 'bose', '3d', 'dash', 'perspect', 'high', 'sunjam', 'ise', 'votejkt', 'salmon', '11:15', 'polic', 'odoo', 'sayhernam', 'asian', 'mahilig', 'intoler', 'burn', 'haaa', '10am', 'omg', 'stung', 'stolen', 'baloney', 'faggot', 'flatteri', '🌷', 'matthew', 'shoot', 'drive', 'nobodi', 'sunburnt', 'whhr', '28th', 'msnbc', 'shouldv', 'greatkenya', '💪🏻', 'classmat', '11.00', 'rohingya', 'shitti', 'five', 'jlo', 'atroc', '335', 'due', 'blame', 'hygien', 'goictiv', 'miss', 'mana', 'osea', 'hurt', 'pool', '50', 'owner', 'raheel', 'everlast', 'execut', 'socialis', 'amazingli', 'brown', '@vauk', 'actuallythough', 'cupcak', 'kissm', 'fl', 'bcu', 'movie', 'ninh', 'mager', 'jesu', 'access', 'youuu', '15e', '2.25', 'etid', 'the_madstork', 'smith', \"how'r\", 'msg', 'wolrd', 'pricelessantiqu', 'son', 'wiff', 'macbook', 'tbt', 'weird', 'guess', 'eldest', 'kahaaa', 'diseas', 'cri', 'tradit', \"cupid'\", 'merlin', 'tsktsk', 'nom', 'jr', 'katee', 'tweeti', 'therver', 'fleur', 'piano', 'mike', 'cunt', 'accessori', 'siddi', 'katamari', 'mwa', 'pixel', 'renew', 'goodwil', 'devolut', 'scotlandismass', 'wrist', 'lemon', 'loudest', 'tomlinson', 'clash', 'trapmus', 'gd', 'altern', 'movi', 'godbless', 'albeit', 'doc', 'suprem', 'sg1', 'knive', 'eek', \"monty'\", 'stan', 'bastard', 'stuff', 'triangl', 'supermarket', 'rashmi', 'jk', 'netbal', '🎂', 'offboard', 'walao', 'taunton', 'melatonin', 'lil', 'taxi', 'direct', 'troubl', 'jummapray', 'abe', 'ene', 'kikkomansabor', 'make', 'davao', 'pride', 'namecheck', 'pcb', 'vein', 'giriboy', 'el', 'vinegar', 'knew', 'divinediscont', 'incorrect', 'blue', 'munchkin', '26week', 'legsupthewal', 'yr', 'design', 'pg', 'subgam', 'smtm', 'briefli', 'lace', 'yep', 'feelgoodfriday', 'mr2', 'forneret', '911', \"u'r\", 'brambhatt', 'ameen', 'clean', 'tammirossm', \"grigson'\", 'pr', 'fahrinahmad', 'brag', 'block', 'feelslikeanidiot', 'sue', 'resi', 'founder', 'tho', 'group', 'mmsmalubhangsakit', 'extravag', 'reciev', 'whit', 'nl', 'cohes', 'activ', 'drain', 'bottl', '0878 0388', 'wick', 'worst', 'child', 'yeol', 'ladyposs', 'zayncomebackto', 'fbc', 'vip', 'cyber', 'accumul', 're-watch', 'patron', 'lgbt', 'kitchen', 'ayex', 'awh', 'vegetarian', '454', 'georgi', 'ouucchhh', 'jumma', 'djset', 'hilari', 'x18', 'mbalula', 'llama', 'nknkkpagpapakumbaba', 'dirtykik', 'arbeloa', 'x', '15.90', 'assum', '2015kenya', 'welsh', 'tomato', 'ahaha', 'sometim', 'banana', 'thoughtseiz', 'unit', 'eyelid', 'randomrestart', 'amin', 'needa', 'stare', 'lvg', 'vinni', 'area', 'campsit', 'wt', 'thesim', 'pleasur', 'rtd', 'item', \":'(\", 'nemanja', 'wherev', '>:-(', 'zero', 'bt', 'cant', 'wba', 'tortur', 'afteral', 'mean', 'nae', 'accord', 'womad', 'veget', 'codi', 'kalin', 'arent', 'flippin', 'boob', 'jd', 'juga', 'ego', 'hisaab', 'plisss', 'bitchfac', 'highest', 'ramadhan', 'barkada', 'wae', 'hogan', 'revamp', 'digitalexet', 'asshol', 'meant', 'unsuccess', 'chanhun', 'ktksbye', 'kme', 'talant', 'spinni', 'river', 'ef', 'govern', 'ausfailia', 'marrish', 'lourd', 'niec', 'ash', 'anyar', 'aw', 'agent', 'chswiyfxcskcalum', 'kimaaani', 'vandag', 'blackberri', 'freshli', 'iloveyouu', 'flat', 'renam', 'jedzjabłka', 'kiddo', 'foiegra', 'ark', 'gendut', 'unfortun', 'kernel', 'chokki', 'habit', 'dick', 'poison', 'satya', 'litro', 'int', 'nake', 'seen', 'redid', 'reassur', 'overnight', 'mehendi', 'speech', 'stage', 'bcuz', 'box', 'snob', 'ordinari', 'llaollao', 'four', 'lusi', 'beme', 'exhaust', 'kak', 'cider', 'omaygad', 'jeebu', 'jonghyun', 'ladygaga', 'asleep', 'mother', 'g', 'matern', 'nba', 'rage', 'england', '7:40', 'ticket', 'kall', 'frustrat', 'buddi', 'address', '😧', 'wali', 'grown', 'alix', 'graciou', 'unam', 'shave', 'alhamdulillah', 'eng', 'balik', 'kathryn', 'hop', 'threw', 'airforc', 'swell', 'yasu', 'disk', 'chipotl', '1st', 'reaction', \"jimin'\", 'doli', 'biomass', 'thaaat', 'ganteng', 'yoona', 'varsiti', 'tweetofthedecad', 'ph', '1277 1093', 'mutual', 'pop', 'proud', 'cash', 'tomhiddleston', 'stealth', 'idk', 'tong', 'rubi', 'ale', 'marco', 'dam', 'launch', 'see', 'tri', 'hahahah', 'plant', 'ryu', 'calm', 'greymind', 'nat', 'sympathi', 'nm', 'respectlost', 'client_amends_edit', 'plan', 'unagi', 'wifi', '50notif', 'londondairi', 'cocktail', 'daw', 'wentz', 'soamaz', 's2', 'easili', '@commoncultur', '☼', 'kickstart', 'bunta', 'cola', 'mistak', '2017', 'lower', 'dinner', 'rough', 'paulin', 'parisa', 'nah', 'supa', 'hair', 'taem', 'hotb', 'jay', 'libmysqlclient-dev', 'ब', 'inch', 'colder', 'schoolsoutforsumm', 'stylish', 'legget', 'lack', 'way', 'captur', '∗', 'yahoo', '1.8', 'okayi', 'glorifi', 'franc', 'valencia', \"yesterday'\", 'smh', 'cinema', 'kikm', 'spin', 'ki', 'gundam', 'funni', 'hasya', 'estat', 'periscop', 'araw', 'sound', 'robyn', 'دعمم', 'batteri', 'gw', 'explos', 'fra', 'male', 'gotham', 'mistress', '7-3', 'pblogger', 'gener', 'matur', 'ab', 'se100lead', \"infinite'\", 'ilysm', 'whoop', 'cardi', 'invest', 'adi', 'loss', 'entertain', 'bubba', '=:', 'chweina', 'wednesday', 'limbo', 'lol', \"pixar'\", 'hav', 'lmaoo', 'underr', 'cr', 'choir', 'week', 'ihop', 'forgot', 'airdroid', 'apart', 'juic', '3.4', 'rest', 'boii', 'stair', 'custard', 'thrill', 'ka', 'lansi', 'wearig', 'assia', 'take', 'spam', 'bill', 'dreamer', 'crash', 'sweatpant', 'rod', 'experi', \"dostoevsky'\", 'ukiss', 'takeaway', 'aich', 'ex-tweleb', 'diploma', 'newer', 'fault', 'whet', 'supersmash', '31', '★', 'adrian', 'room', 'donghyuk', 'passport', 'wft', 'street', 'otl', 'walangmakakapigilsakin', 'numb', 'excl', 'hahah', 'wing', 'imintoh', 'com', 'scope', '697', 'enji', 'amiibo', 'thursday', 'spazz', 'ghantay', 'moos', 'techniqu', 'roseburi', 'ff', 'illustr', 'gonna', 'whn', 'repath', 'odd', 'itv', '》', '07:02', 'said', 'mp3', 'strap', 'cardio', 'might', 'junior', '975-580-', 'adio', 'dope', 'ｓｅｅ', '@the', 'bra', 'fugiwara', 'lover', 'd1', 'wailay', 'dedic', 'keybind', 'everyday', 'mwf', 'pattern', 'elli', 'rodder', 'cuti', 'european', 'unstan', 'protein', 'bitin', 'randomli', 'hmm', 'masud', 'likeforlik', 'pg279q', 'horserac', 'horni', 'controversi', 'log', 'gg', 'pa', 'sing', \"someone'\", 'aminn', 'state', 'sugar', 'tasteless', 'size', 'taylor', 'agre', 'yisss', 'pari', 'arch', '❤', 'bi0', 'toothsensit', 'fron', 'erm', 'christian', 'definit', 'therefor', 'lifetim', 'joyc', 'soph', '┳', 'botani', '🚙', 'n', 'gishwh', 'investig', 'sodder', 'asham', \"look'\", '7', 'scissor', 'depend', 'awesomee', '1190', 'calum', 'tau', 'blain', 'greysonch', '423', '1,300', 'forev', 'goodluck', 'knit', 'warlock', 'reqd', 'sara', '\\U000fe334', 'heiyo', 'misti', 'sadli', 'sublimin', 'itun', 'annoy', 'poopi', 'fern', 'dazzl', 'fabfriday', 'hediy', 'embrac', 'addit', 'durood', 'kick', 'swearword', 'scari', 'trop', 'patient', 'بندر', 'sakho', 'hazel', 'slot', 'beta', 'minc', 'funk', 'vanilla', 'awsm', 'modimo', 'mobil', 'zach', 'fanci', '┗', '2/4', '1948', 'jog', 'sachin', 'quick', 'धोखा', 'teamfollowback', 'hahahaa', 'satisfi', 'pre-ord', 'sorrri', 'inflat', '325.000', 'doug', 'advisori', '07:17', 'sethi', 'specul', 'volum', 'fuse', '39', 'typic', 'chrompet', 'abroad', 'overwhelmingli', 'elect', 'kong', 'pchelok', 'umboh', 'jacob', 'ladi', 'gn', 'rxthedailysurveyvot', 'rundown', 'effort', 'kidney', 'x14', 'shek', 'khatam', 'edward', 'soniii', 'vid', 'birthdaypres', 'choic', 'harumph', 'hat', 'stick', 'goodnight', 'unlimit', 'snpcaht', 'waist', 'web', \"verity'\", 'valentin', 'fun', 'mob', 'bugbounti', 'jest', 'stiff', 'bbm', 'mm', 'slowli', 'expo', 'biggest', 'parad', '9dg', 'gail', 'sw', 'shepherd', 'boohoo', 'photoshooot', '2ban', 'brb', 'propos', 'prinsesa', 'honesti', 'glitch', 'fab', 'condemn', 'orang', 'x5', 'mind', 'gondooo', 'sehun', 'hiii', 'snooker', 'organis', 'n04j', '🙏🏻', 'shortlist', 'naggi', 'laper', 'christina', 'reset', 'sprit', 'procrastin', 'muv', 'tango', 'compens', 'ksoo', 'rabbit', 'librari', 'propa', 'separ', 'kill', 'morrrn', 'mari', 'shir', 'knockin', 'unlov', 'wakeup', 'hype', 'seatmat', 'cartoon', 'xoxo', 'stephani', 'pokemon', 'peyton', 'contact', 'heard', '150-160', 'financi', 'niwll', 'pandora', 'pea', '🐑', 'luckyyi', 'undercoverboss', 'glenn', 'mam-bulli', 'thistlelov', 'suitcas', 'speak', 'puke', 'gi-guilti', 'aunt', 'sia', 'nell', 'ks', 'hard-wir', 'vex', 'csrrace', 'headach', 'ceo', 'toast', 'lua', 'story.miss', 'dianna', 'buyer', 'fineandyu', 'daniel', 'highschoolday', 'everday', 'pish', 'x16', 'tast', 'heap', 'obv', 'weh', 'hilli', 'chant', 'guin', '😵', 'glacier', 'dozen', 'chees', 'pikami', 'suriya', 'peopl', 'walkersmithway', \"they'll\", 'tc', 'wavi', 'warm-up', 'vidcon', 'astonvilla', 'done', 'channel', 'yall', 'target', 'dread', 'potato', 'respond', 'bison', 'cherri', 'huhuu', 'romanc', 'immov', 'shob', 'improv', 'artworkbyli', ':d', 'diva', 'catami', '⅞', 'harmo', 'mate', 'queenesth', \"u'v\", 'dew', '73', 'realiz', '600', 'tunnel', 'barnstapl', 'drunk', 'incomplet', 'ritual', 'constantli', 'toghet', 'tt.tt', 'nicest', 'putovanja', 'minist', 'thing', 'burfday', 'tank', 'ofscreen', 'exit', \"sister'\", 'makati', 'hotairballoon', 'choos', 'third', 'octob', 'onyu', 'extern', 'kenya', 'syrup', '17th', 'bibl', 'notr', 'f', 'bemeapp', 'ptsd', 'smile', 'arm', 'fansign', 'green', 'analyz', 'chillin', 'float', 'fricken', '26', 'closer', 'repay', 'afraid', '3rd', 'laro', 'laptop', 'snooz', 'icepack', 'face', 'haiz', 'browser', 'moistur', 'joselito', '😴', 'offend', 'bangalor', 'yaa', 'news', 'strike', 'misplac', 'whomosexu', 'continu', 'budg', 'huh', 'far', 'keedz', 'flight', 'masterchef', 'elhaida', 'nigeria', 'brotheeerrr', 'imperi', '°', 'when', 'con', 'confid', 'shadi', 'hous', 'eve', 'hiondsh', 'round', 'hard', 'warn', 'elabor', 'poppin', 'hurri', 'favor', 'clientvisit', 'yeh', 'social', 'look', 'physiqu', 'bisexu', 'nathann', 'terrif', 'chati', '700', '😞', 'awhil', 'hw', 'in-hous', 'disney.art', 'pre', 'x34', \"attitude'\", 'netsec', 'hand', 'soundcheck', '4:18', 'peanut', 'michael', 'um', 'white', 'half', 'adu', 'boah', 'much', 'ive', 'chew', 'result', 'author', 'crime', 'debut', 'geskenya', 'colour', 'happier', 'younger', 'sexdat', 'appar', 'iirc', 'cheap', 'invalid', 'crikey', 'cu', 'clip', 'eunji', 't-shirt', '47', 'yesha', 'phandroid', \"he'\", 'alter', 'site', 'even', 'delish', 'fahad', 'clap', 'happyyi', 'rakna', 'theme', 'dudett', '404', 'hp', '♥', 'winehous', 'happycustom', 'rpli', 'atm', 'crave', 'mega', 'nth', 'cleans', 'maa', 'surviv', 'architectur', 'pull', 'aaahh', 'vacant', 'duti', '👌', 'moodbost', 'mamaya', 'fanboy', 'fight', 'ex', 'shahid', 'danni', 'povertyyouareevil', '22.05', 'irand', 'verg', '01:15', 'heavi', 'journorequest', 'yesterday', 'todo', 'alberta', 'victim', 'holborn', 'planner', 'basil', 'two', 'kb', 'ayemso', 'criticis', 'addict', 'yard', 'follbaaack', 'gooday', '1d', 'beograd', 'inc', 'payn', 'nuclear', 'modi', 'yello', 'forehead', 'minut', 'zumba', 'evet', 'gatorad', 'cnt', 'asia', '🚂', 'consent', '2/2', 'shud', 'subscrib', 'mono', 'srbija', '」', 'heechul', 'psychopath', 'promethazin', 'ur', 'gigi', 'extraordinari', '15000', 'drown', 'jamie-le', 'pile', 'hobbi', \"otp'\", 'soln', \"blaine'\", 'affili', 'ram', 'song', '😅', '11', \"japan'\", 'glasgow', 'baek', 'dinghi', '8p', 'bethesda', 'wors', 'dasvidaniya', 'tard', 'indiffer', 'written', 'gin', 'reput', 'gap', 'ahah', 'geer', 'ear', 'discount', 'deti', 'gamestomp', 'baggag', 'babe', 'effin', 'statement', 'tobi-bro', 'ft', 'imposs', 'section', 'fresh', \"when'\", 'thanx', 'moan', 'climat', 'mohr', 'furbabi', 'bobbl', 'nose', 'silverston', 'paul', 'greater', 'dental', \"grandpa'\", 'greek', 'mental', 'sigh', 'test', 'ffback', 'mi', 'anyonnee', 'help@veryhq.co.uk', 'complet', 'lorm', 'nearest', 'mull', 'akua', 'sararoc', 'sem', '321', \"kam'\", 'thanq', 'iz', 'sabah', 'zoo', 'vicki', 'realisticli', 'lovesss', \"let'\", 'mo', 'pepsi', 'kate', 'merci', 'kurta', 'margo', 'price', 'mush', 'practic', 'advert', 'nyquil', 'nathanielhinanakit', 'phonesex', 'flower', 'right', '💋', 'kikmsn', 'everett', 'appl', 'birthday', 'hale', 'gossip', 'kiksex', 'ahouré', 'dota', 'bueno', 'felic', 'rattl', 'teamposit', 'rhd', 'taught', 'kim', 'jersey', 'lmaooo', 'countless', 'hoxton', 'ω', 'uy', '7am', 'snobbi', 'play', 'ut', 'sweedi', 'entlead', 'ep', 'retail', 'ooh', 'lolll', 'kaha', 'gto', 'clan', 'wat', 'threaten', 'fml', 'team', 'chute', 'gastronomi', 'sophi', 's4', '3:03', 'futur', 'poster', 'gather', 'yournaturallead', 'boom', 'recov', 'jummah', '9:48', 'isibaya', 'sweater', 'carolin', 'suicid', 'care', 'gun', 'convers', 'bulletin', 'materialist', 'heaven', 'grew', 'wrap', 'copi', 'tee', 'suzi', 'ny', 'silli', 'falsetto', 'kresna', 'momma', 'hardhead', 'steel', 'vscogood', 'rma', 'realist', \"josephine'\", 'kesa', 'golden', '27', 'wolf', 'nutshel', 'barcod', 'admin_myung', 'غردلي', 'oili', 'wtf', 'bio', 'sikandar', 'aflblueshawk', 'chikka', 'indi', 'snake', 'longer', 'motilium', 'wynter', '💓', 'comparison', 'cheung', 'ripstegi', 'coaster', 'staff', 'begun', '80x', '(-:', 'chwang', 'past', 'yael', 'relationship', 'readingr', 'followfriday', '18.99', 'enjoy', 'bookstor', 'tooth', '2hour', 'pee', '_15', 'schedul', 'cb', 'dude', 'herb', 'thorp', 'irrespons', 'potenti', 'unhappi', 'petjam', 'cretaperfectsuv', 'x10', \"soloist'\", 'closest', 'pothol', 'stoke', 'kaussi', 'uk', 'indiana', 'qualifi', 'mombasa', 'deleici', 'save', 'x25', 'cute', 'nowday', 'x37', 'emeg', 'sunday', 'shoulda', 'cruis', 'stark', 'logic', 'scam', 'gorgeou', 'costacc', 'buddyyi', 'powi', 'hoki', 'collaps', 'contradict', 'telat', 'fifa', 'peasant', 'bbmpin', 'swipe', 'fah', 'howdo', 'eri', 'reach', 'narendra', '323', 'koi', 'ohhh', 'nahi', \"shady'\", 'account', 'cow', 'donut', 'petit', 'stalker', 'leader', '╭', 'medit', 'vers', 'hsm', 'super', 'aahhh', 'tokyo', \"must'v\", 'keesh', \"team'\", 'chaddi', 'card', 'farmiga', 'juggl', '1-0', 'proper', '1,500', 'rub', 'contestkiduniya', 'faith', 'alunageorg', '79x', 'garret', 'itali', 'etdi', 'bonasio', 'servicewithasmil', 'ppl', '319', 'certainli', 'fabul', 'marriag', 'thoo', 'extens', 'indo', 'drink', 'porosh', 'wna', 'creation', 'urwelc', 'hschool', 'memori', 'call', 'globe', 'wake', 'naw', '💙', 'dalla', 'lblogger', 'backstori', 'ini', 'sg', 'yaaay', 'explain', \"diane'\", 'pl', 'jisung', 'wielli', 'solid', 'ted', 'dv', 'mein', '9:15', 'berangkaat', 'beautifully-craft', 'footi', 'gen.ad', '26th', \"slovakia'\", 'mode', 'torn', 'oldi', 'centr', 'jadin', 'sobtian', 'consider', 'bo2', 'empti', 'lue', 'fuller', 'beyt', 'cornwal', 'tumblr', 'arctic', 'cream', 'hueee', 'album', 'esnho', 'barefoot', 'bettor', 'brighten', 'chan', 'less', 'appeal', 'goat', 'kinki', 'derp', 'trmdhesit', 'shaylan', 'roommat', 'falkland', 'israel', 'cheesydelight', 'whilst', 'niqqa', 'dhabi', 'mano', '838', 'tnc', 'tram', 'hen', 'prob', 'ebook', 'christen', 'buzz', 'sandwhich', 'arrang', 'may', 'fingers-cross', 'paalam', 'centrifug', 'beaut', 'despit', 'suspems', 'repeatedli', 'short', 'ferri', 'photooftheday', 'madrid', 'near', 'abu', 'shini', 'info', '👓', 'oracl', 'yeheyi', 'men', 'hahahahaha', 'shirleycam', 'robinhoodi', 'abit', 'actor', 'happiest', 'peni', 'latepost', 'brows', 'prob.nic', 'hipster', 'mfundo', '325', 'tea', 'hrdstellobama', 'dae', 'jennif', 'tempt', 'machaya', 'mark', 'updat', 'reign', 'minha', 'hon', 'lilsisbro', 'x27', 'phir', 'emc', 'fishi', 'thirdwheel', \"can't\", 'beforehand', 'class', 'fave', 'def', 'tanisha', 'tagsforlikesapp', 'filbarbarian', '::', 'cancel', 'infograph', 'laribuggi', 'halaaang', 'nowt', 'april', \"ray'\", 'specialist', 'connor', 'cauliflow', 'omfg', 'sinhala', 'hmu', 'stud', 'nicoleapag', 'christoph', 'artist', '4me', 'mostli', 'prada', 'struggl', 'okok', 'chain', 'swifti', 'joke', '60', 'legendari', 'scorch', 'setter', '🌚', 'lake', 'anythin', 'distress', 'wider', 'congratul', 'solar', 'fam', 'offlin', 'hund', 'akana', 'canal', 'trace', 'poldi', 'wua', 'silent', 'read', 'chum', 'entir', 'wonder', 'quetiapin', 'gass', 'told', 'navi', 'cover', 'evil', \"everything'\", 'buttsex', 'anonym', 'queri', 'incl', 'uniteblu', 'ilhoon', '34', 'heed', 'patml', 'bright', 'swasa', 'jong', 'fank', 'charger', 'tmr', 'ap', \"selena'\", 'theaccidentalcoupl', '74', 'newest', 'wooftast', 'koffi', 'geez', 'war', 'sc', 'bitter', 'run', 'utc', 'yesss', 'rule', 'menu', 'problemmm', 'yogyakarta', 'luck', 'luff', 'brendon', 'dub', 'seo', 'nikkei', 'tropic', 'hahay', 'suffer', 'monkey', 'chapter', 'sob', 'use', 'insecur', 'soho', 'desc', 'yet', 'spec', 'ami', 'soprano', 'ok', 'truck', '50europ', 'northern', 'mididress', 'beach', 'wacki', 'plane', 'wind', 'someth', 'art', 'dream', 'somebodi', 'dreamteam', 'lamon', 'rep', 'dah', 'thread', 'chibi', 'anticip', '13m', 'hrryok', 'map', 'contract', 'goodwynsgoodi', 'nawww', 'ia', 'tompolo', 'josh', 'mcg', 'madelin', 'lolzz', 'prayer', 'sir', 'stop', 'cornish', 'numbero', 'cooki', 'niaaa', 'peek', 'pic', 'uncount', 'mjhe', 'hand-lett', 'horribl', '2am', '😂', 'polaroid', 'brum', 'comet', 'caro', 'snuggl', 'goy', 'tasti', 'xavier', 'sabadodeganarseguidor', 'dylan', 'gfriend', 'hear', 'km', 'lucozad', '🙅', 'obsess', 'migrain', 'accommod', 'rose', 'certain', 'awusasho', 'trash', 'surf', 'avril', 'sect', 'zap', '10.3', 'often', 'bandana', '02392441234', 'hahahaaah', 'bantim', 'izzat', 'snot', 'burnout', 'level', 'man.h', 'caramello', 'whatthefuck', 'nope', 'jumpsuit', 'yass', 'tito', 'guilti', 'inact', 'ni', 'long', 'translat', 'vlog', 'remedi', 'one', 'gettin', 'méxico', 'lolz', 'inquisitor', 'dosent', 'login', 'thq', 'laomma_coutur', 'jai', 'student', 'unappreci', 'bowel', '316', 'landscap', 'j8', 'vava', 'java', 'boo', 'socialreward', 'commiss', 'standrew', 'fiend', 'ballad', 'inaccur', \"sculptor'\", '✧', 'space', \"i'v\", 'forgiven', 'transpar', 'woah', 'view', 'carmen', 'iwantin', 'antagonist', '£', 'cambridg', 'zayn', 'gahd', 'crosss', 'basara', 'servu', 'subject', 'fat', 'melbourn', '👈', 'doomsday', 'knowww', 'ohioan', 'proudtobem', 'brianazabrocki', 'millz', 'selangor', 'assign', 'fellow', 'central', 'eboni', 'lollipop', 'come', 'rome', 'gintama', '11:00', 'non-filipina', 'brain', 'approach', 'wknd', 'monthli', 'mic', 'facil', 'soak', 'mushroom', 'bissmillah', 'selfiee', 'agaaain', 'lesbian', 'confetti', 'milf', 'tmw', 'jean', 'relax', 'standwdik', 'chase', 'avi', '1900', '3week', \"harry'\", 'hogo', 'rec', 'hernia', 'localgaragederbi', 'heeeyyy', 'throwback', 'wip', 'score', 'justget', 'norh', 'gion', 'bleed', 'gr8', 'soulmat', 'brother', 'savetherohingya', 'repack', 'thejuiceinthemix', 'hain', 'ian', 'zipper', 'bigbang', 'som', 'omggg', 'hierro', 'uuu', 'idek', 'gaga', 'brill', 'file', 'netflix', 'jimin', '💛', 'suav', \"apma'\", 'idea', 'cold', 'turkey', 'disvirgin', 'coco', 'disneyinfin', 'mork', 'shark', 'hayley', 'sub', 'depress', 'aztec', 'tgp', 'usernam', 'mune', '👯', 'bottom', 'attract', 'pearson', 'cereal', 'maroon', 'califor', 'injur', '💫', 'enviou', 'grabe', '🌸', 'warfar', 'function', \"insha'allah\", 'bartend', 'bell', 'marai', '(:', 'weed', 'attempt', 'alvadhaau', 'lootcrat', 'tumor', 'maymay', 'besid', 'nga', 'bakal', 'greekcrisi', 'melon', 'cook', 'nixu', 'hehe', 'comma', 'syndrom', 'old-porridg', 'gypsi', 'rent', 'system', '179', 'accid', 'ohaha', 'sic', 'lemm', 'fandango', 'et', 'xi', 'pwrfl', 'whyyi', 'stone', 'infront', 'bentek', 'merri', 'ruth', 'coach', 'skyfal', 'hwait', 'editor', 'gratti', 'dinooo', 'selena', 'erica', 'worldwid', 'ten', 'fine', 'broke', 'zokay', 'gif', 'selway', 'vishaya', 'memem', 'facetim', 'faceit', 'hitmark', 'attach', 'dmed', 'grade', 'breakdown', 'sorta', 'chem', 'balanc', 'toxin', 'mama', 'andi', 'un', 'snsd', 'hibb', 'malta', 'outliv', 'negat', \"ciara'\", 'cuticl', 'yeey', 'gunashekar', 'paddock', '349', 'sheriff', 'choroo', 'alon', 'pathway', 'mumbai', 'accur', 'thanki', 'soggi', 'booti', 'تكفى', 'rubbish', 'heathrow', 'stooop', 'thatscold', 'dong', 'turtl', 'squat', 'commerci', 'nooot', 'human', 'floor', 'fanta', 'nowaday', 'welcoma.hav', 'dovey', 'layer', 'isol', 'print', 'elgin', 'twine', 'sirkay', \"microsoft'\", '__', 'tiddler', 'razzist', 'infinit', 'lesley', 'lsa', 'ulti', 'yapster', 'supercar', 'ampsha', '🍹', 'jailbroken', 'reader', 'rememb', 'languag', 'ganna', 'posey', 'ellen', 'overdu', 'celebratio', 'grill', 'bitch', '✈', 'stuart', 'biz', 'bir', 'petal', 'sexo', 'livestream', '╮', 'slide', 'fallen', 'zayniscomingbackonjuli', 'soft', '🇫🇷', 'ach', 'cheshir', 'burst', 'chair', 'austerlitz', 'wolverin', 'aurini', 'senpai', 'sensibl', 'jazz', 'bonu', 'twinx', 'label', 'x13', '🍵', 'sew', '111', '14', 'bohat', 'prescott', 'destin', 'stack', 'russian', 'shortli', '🍭', 'probabl', 'singapor', 'complaint', 'bjp', 'breconbeacon', 'apexi', 'usagi', '10.30', 'wore', 'dept', 'mah', 'pre-season', 'makna', 'catho', 'finnigan', 'genuin', 'bebii', 'support', 'could', 'toma', 'hayst', 'canario', '823', '05.15', 'pakistan', 'porno', 'tempor', 'weekendofmad', 'x43', 'massi', 'serv', 'grassi', 'uggghhh', 'daaru', 'anything.sur', 'dealsuthaonotebachao', 'uca', 'li', 'imac', 'cumbia', 'nou', 'celebr', 'airec', 'angek', 'stomachach', 'itna', 'fix', '144p', '️2', 'cortez', 'personalis', 'check', 'lovenafianna', '’', 'loiyal', 'underwat', 'drug', 'jehwan', 'hayli', 'beginn', 'later', 'congrtaualt', 'pitmantrain', 'usa', 'toni', 'abandon', 'purrtho', 'vishwa', 'boot', 'tranc', 'januari', 'hulkamania', 'va', 'rant', 'lt', 'instagram', 'unlock', 'youtub', 'pleass', 'welcom', 'webtogsaward', 'live', 'dy', 'corner', 'kitti', 'corbyn', 'hidden', 'naruto', 'word', 'isco', 'por', 'ovh', 'veggi', 'peso', 'nw', 'stefani', '5word', 'x15', 'gimm', 'joe', \"weekend'\", 'da', '27juli', 'total', 'meg', 'pillar', 'chick', 'nex', 'pa-copi', 'lyk', 'harmoni', 'mixtap', 'lmfaoo', 'openfollow', 'speci', 'gryph', 'wong', '┣', 'os', 'answer', 'merdeka', 'que', 'fela', 'compet', 'obyun', 'let', 'oliviafowl', 'marin', 'anesthesia', 'titanfal', 'hpc', 'noseble', 'hood', 'rakhi', 'lupet', 'pampanga', 'romantica', 'pay', '10th', 'bend', 'bush', 'fieldtrip', 'suger', 'upset', 'thanksss', 'stereo', 'god', 'socent', 'atchya', 'twice', 'booo', 'journal', 'raincoat', 'pleasanton', 'emma', '3k', 'fuk', 'tweetland', 'chef', 'edel', '¦', 'te', 'covent', 'nick', 'jami', '<---', 'gray', 'forecast', 'litey', 'procedur', 'sale', \"f'ing\", 'nakaka', 'carlton', 'liquid', 'geoff', 'sync', \"kyungsoo'\", '😒', 'meri', '╯', 'warm', 'bonilla', 'sibuk', 'pusher', 'docopenhagen', 'shatter', 'collab', 'again', 'escap', 'pamper', 'craft', 'savag', 'summon', 'kar', 'jason', 'south', 'biker', 'bri', 'jabongatpumaurbanstamped', 'bum', 'zayniscomingback', 'shalwarkameez', 'least', 'abhi', 'tdif', 'hotgirl', 'z', \"unicef'\", 'dongsaeng', 'missyou', 'misspelt', '>:(', 'egg', 'uniqu', 'balm', 'bowl', 'paradis', 'spece', 'sleepov', 'bv', 'pink', 'kuffar', 'rhisfor', 'babygirl', 'carniv', 'lyka', 'trial', 'brief', 'problemat', 'volta', 'kin', 'o_o', '\\U000fe196', 'lipstick', 'manual', 'apt', 'discuss', 'rela', 'usah', 'light', 'dey', 'leon', 'movnat', '317', 'chrome', 'stadium', 'feminist', 'judgment', 'aapk', 'unfriend', 'emptier', 'anymoree', 'money', 'san', 'huhuhuhuhu', 'tour', 'girlfriendsmya', 'independ', 'math', \"deosn't\", 'shown', 'upon', 'waseem', 'dassi', 'rettweet', 'trainer', 'selamathariraya', 'sazbal', 'croke', \"emily'\", 'roar', 'hors', 'hindi', 'bday', 'jennyjean', 'prettiest', 'gv', 'dolphin', 'edsa', 'inapropri', 'grab', 'shame', 'indonesia', 'fabian', 'bride', 'grey', 'hahahaokay', 'around', 'mention', '805', 'yeeeah', 'uwu', 'deepxcap', 'bldg', 'cabl', 'kfckitchentour', 'societi', 'descript', 'nalamannn', 'keep', 'awww', 'corridor', 'pb.contest', 'late', 'chuckin', '13th', 'mood', 'joim', 'surrey', 'kw', 'chocolatey', 'niend', 'missin', 'sim', \"it'll\", 'busi', 'sausag', 'bg', 'pti', 'reboard', 'collect', 'oval', '18th', 'tummi', 'forest', 'lumin', 'intellect', 'fan', 'mac', 'knowledg', 'provok', 'cement', 'jazmin', 'gurli', 'assingn', 'du', 'breaktym', 'waytoliveahappylif', 'coveral', 'gel', 'nerd', 'exactli', 'harri', 'straplin', 'outta', 'steroid', 'cajunchicken', 'brisban', 'x40', '80', 'philea', 'retain', 'macedonian', 'feelinggood', 'trim', 'woohoo', 'waiter', 'iraq', 'lumia', '️bea', 'sm', 'kangin', 'premiostumundo', 'buti', 'ifimeetanalien', 'vibrat', 'cake', 'mosqu', '13.99', 'niamh', 'shem', 'meani', 'ross', 'suckmejimin', 'teeni', 'nhl', 'slower', '😓', 'decemb', 'otwolgrandtrail', 'klappertart', 'mixtur', 'tgk', 'postcod', 'repeat', 'owli', 'knw', '0-2', 'fk', 'oi', '10/10', 'goosnight', '65', 'kept', 'hbdme', 'selfi', 'ramd', 'ehh', 'convinc', '😔', 'eatmeat', 'thnk', 'shiver', 'forward', 'nooow', 'brawl', 'downstair', 'apink', 'understood', 'competit', 'powder', 'x36', 'sister-in-law', 'sexchat', 'hypocrit', 'supprt', 'someday', '59', 'ralli', 'oppayaa', 'printer', 'spill', 'totem', 'waifu', 'mel', 'yelaaa', 'clandestin', 'survey', 'crush', 'fucker', 'fu', 'iam', '19th', 'watch', 'sister', 'outfwith', '58543', '5min', 'viath', 'nikeindonesia', 'gilet', '506', 'lit', 'maxi', 'flavour', 'twurkin', 'tramlin', 'frog', 'world', 'imsorri', 'sane', 'hnnn', 'sone', 'cours', 'wobbl', 'harriet', 'tline', 'skate', 'magicalkenya', 'nude', 'bomb', 'predict', 'silang', 'steven', 'suma', 'nam', 'penyfan', \"women'\", '—', 'daaay', 'gl', 'season', 'alcohol', 'subdivis', 'viazi', 'starwar', 'followingg', 'b2aa', 'ehm', 'shop', 'lesson', 'fridaydownpour', 'page', 'pardon', 'consid', 'aug', 'premier', 'bout', 'elfindelmundo', 'contain', 'bigger', 'difficult', 'hopkin', 'xo', 'outi', 'debbi', 'chau', 'screw', 'physiotherapi', 'hyung', 'tenyai', 'friday.and', 'aku', 'flyhigh', 'photoset', 'smell', 'onion', 'selfish', 'arc', 'latin', 'akshaymostlovedsuperstarev', 'unhealthi', 'haveagoodday', 'lain', 'fridayfun', 'ignor', 'linguist', 'border', 'x-ray', '😃', 'rtss', 'benefit', 'hawako', '100', 'nudg', 'pro', 'newslett', 'optimis', 'discoveri', 'kepo', 'fxhelp', 'santo', 'fiver', 'mon', 'thebestangkapuso', 'lazi', 'mashaket', 'ramzan', 'gloucestershir', 'confess', 'bowwowchicawowwow', 'baekhyun', 'bob', 'walang', 'hakhakhak', 'sf', 'ledger', 'sorri', 'otter', 'safaa', 'grace', '☕', 'mcountdown', 'meaningless', 'workout', 'outsid', 'brooklyn', 'nation', 'friyay', 'belfast', 'gyllenha', 'edm', 'whoooah', \"o'neal\", 'nosmet', 'hyungwon', 'honor', 'ripaaa', 'tragic', 'lap', 'wrong', '💥', 'fals', 'eleph', 'anti-christ', 'melbournetrip', 'lendal', 'skyblock', 'tak', 'jouch', 'stress', 'wanna', '5:30', 'reaalli', 'injuri', 'epic', 'reaali', 'dobar', 'cosi', 'jumpgiant', 'heiya', 'append', 'milk', 'nonscript', 'twitter', 'spiritu', 'royal', 'raiz', 'rel', 'includ', 'capee', 'dudee', 'blogiversari', 'fell', 'wag', 'ubusi', 'traffic', 'philli', '31st', 'cram', 'gaaawd', 'vuli', 'religion', 'obviou', 'humid', 'breach', 'semo', 'roy', 'yogurt', 'councillor', 'varieti', 'quickest', 'thin', 'gahhh', 'three', 'nc', '6:30', 'velvet', 'better', 'evelineconrad', 'britain', 'typa', 'violenc', 'manuel', '326', 'lot', 'luxuou', 'foh', 'bubbl', 'nomin', 'sxrew', 'ngi', 'disc', 'valuabl', 'quantum', '💖', 'loveyaaah', 'ifeely', 'uber', 'track', 'monfil', 'unavail', 'locat', 'flipkartfashionfriday', 'reason', 'task', 'bhook', 'wayhh', 'earliest', 'xd', 'tame', 'duper', 'intellig', 'grunt', 'glass', 'ol', 'q', 'malik', 'judi', 'goood', 'suspect', 'guis', 'naman', 'earth', 'doubt', 'walnut', 'cranium', 'dump', 'luna', 'bien', 'thent', 'flawless', 'followback', 'duck', 'daili', 'xboxon', 'rupert', 'instant', 'got', 'tune', \"shamuon'\", 'elmoprinssi', 'hate', '10:59', 'know.for', 'gomen', '40mm', 'segalakatakata', 'church', 'earl', 'atlanti', 'disappoint', 'thumb', 'scream', 'spars', 'aff', \"demi'\", 'match', 'deliv', 'ride', 'ux', 'literatur', 'kikmeguy', 'train', 'mechan', 'rqst', 'mcpe', 'whattsap', 'wine', 'addmeonsnapchat', 'addmeonbbm', 'flesh', 'hit', '😉', 'wimbledon', 'curri', ';}', 'properli', 'john', 'tommi', 'toptravelcentar', 'stripe', '329', 'para', 'lycra', 'graphic', 'thingi', 'ima', 'buffer', '48id', 'pret', 'favorit', 'madatt', 'handov', 'raha', '9/11', 'speaker', 'besok', 'jam', 'chanc', 'valu', 'tht', 'permiss', 'turn', 'polish', 'casilla', 'quicker', 'lapar', 'wiv', 'sleeptight', 'jasmingarrick', '4yr', 'porschesupercup', 'anyth', 'forgotten', 'flop', 'emphasi', '3wk', 'remix', 'qualiti', 'suppos', 'lamo', 'grand', 'film', 'menil', 'compos', 'co-work', 'redhead', 'dom', 'sumer', 'idr', 'otp', 'rescu', 'jezwecan', 'letter', 'invoic', 'darren', 'surri', 'huhuhuhu', 'worthi', 'race', 'bellybutton', 'incredibleindia', 'unvarnish', '…', 'leeteuk', 'bald', 'rick', 'benadryl', 'there', 'tax', '｡', 'entrepreneurship', 'recal', 'hulk', 'fake', 'waaa', 'harsh', 'sum', \"here'\", 'weeni', 'incid', 'wub', 'bye', 'sensor', 'form', 'titan', 'wwat', 'takoyaki', '221b', 'biooo', 'strawberri', 'seat', 'reachabl', '737gold', 'chandauli', 'player', 'ndi', 'takeov', 'donutsss', '💃🏽', 'kepler', 'dodg', 'fc', 'frighten', 'wooden', '5am', 'yodel', 'scottish', 'tan', \"party'\", 'coca', 'factori', 'tagal', 'cologn', 'marri', 'nairobi', 'mater', 'accent', 'tf', 'lolipop', 'bland', 'mwamwa', \"horton'\", 'x20', '70685', 'final', 'incom', 'fangirl', '💕', 'ankl', 'makeov', 'award', 'fiction', '6:15', 'routt', 'kafi', 'salam', 'spent', 'quezon', \"why'd\", 'shorthair', 'mess', 'gamejam', 'negooo', 'alreadi', 'contemporari', \"bff'\", 'readystock_hijabmart', 'ucount', 'fmt', 'sparki', 'ooz', 'bdayt', 'repost', 'ahahah', 'hotscratch', 'citizen', 'ourdaughtersourprid', 'rear-end', 'tio', 'resort', 'pora', 'whistl', 'athlet', 'alic', 'nil', 'mpoint', 'bud', 'cheer', 'hai', 'dat', 'carri', 'jongda', 'pretoria', 'squar', 'islamist', 'tweenie_fox', 'frou', '13', 'dave', '♫', 'cantik', 'atleast', 'supris', 'jozi', 'spade', 'collin', 'obi', 'pipe', 'starbuck', 'press', 'gorefiend', 'reveal', 'bhai', 'yeahhh', 'urquhart', 'teamr', 'today', 'forrit', 'slp', 'musicbiz', 'appropri', 'impair', 'fulfil', 'teas', '477', 'ashraf', 'looong', 'potag', 'bo', 'fightstickfriday', 'thermo', 'sheer', '5so', 'kath', 'hee', 'm8', 'hunni', '😄', '21', \"son'\", 'khani', 'pedal', 'yūjō-cosplay', 'cpu', 'gentlemen', 'perfectli', '268', 'musica', 'jojo', 'creas', 'pierojogg', 'm4', 'askaman', 'haha', 'yoghurt', '9am', 'kharap', '3-0', 'massag', 'cag', 'lmfao', 'philippa', 'camsex', 'solvo', 'rted', 'creta', 'lineup', 'mileag', \"zach'\", 'degener', 'tulan', 'triathlet', 'untouch', 'boreddd', 'prettier', 'insur', 'ambr', 'date', 'nsfw', '. .', 'concern', 'open', 'onair', 'wut', 'finish', 'lyin', 'juri', 'exclus', 'nighter', 'pistol', 'theoper', 'pfff', 'toronto', 'caught', 'fuck', 'jurass', 'jax', 'ruin', 'jinki', 'ucan', 'shoshannavassil', 'vietnam', 'hock', 'offshor', 'toffe', 'sho', 'tommarow', 'theo', 'chalet', 'camara', \"y'all\", 'eczema', 'duke', 'unluckiest', '😢', 'bolling', \"school'\", 'sr', 'nice', '2013', 'mak', 'huni', 'snap', 'six', 'also', \"cathy'\", 'sever', 'stole', 'aplomb', 'racist', 'stabl', 'ishal', 'ko', 'bad', 'bulet', 'tweepsmatchout', 'muji', 'prior', 'orayt', 'deaf', 'tfw', '3', 'relat', 'graduat', 'long-dist', 'zayyyn', 's02e04', 'vscocam', '123', 'dot', 'badass', '∠', 'bet', 'trailblazerhonor', 'bang', 'barbel', 'beth', 'hatessuc', 'sona', \"they'r\", 'yeaaah', 'vaw', 'con-gradu', 'brilliantli', 'pod', 'potter', 'sleepingwithsiren', 'angi', '1033', 'settl', 'kianweareproud', 'choo', 'tykkäsin', 'yummi', 'liat', \"m'\", 'speck', 'stella', 'engross', 'ack', 'sunggyu', 'hairi', 'drop', 'folk', 'nonexist', 'mockingjay', \"sacconejoly'\", 'attack', 'never', 'onto', 'justic', 'la', 'rip', 'measur', '677', 'compliment', 'deadlin', 'workin', 'snit', 'paid', 'christ', 'eat', 'nikeorigin', 'sotw', 'emu', 'angelo', 'mbulelo', 'cat', 'yu', 'unives', 'achi', 'sholong', 'bcoz', 'exposur', 'fortun', \"she'll\", 'pepper', 'carol', 'fowl', 'bloodlin', 'inspit', '1982', 'lock', 'heel', 'masaan', 'constant', 'nacho', 'prioriti', 'jillmil', 'lrka', 'askip', 'karani', 'ming', 'ramo', 'ivypowel', 'sofa', 'sinc', 'rli', 'yummm', 'upvot', 'stool', '3:33', 'fahrenheit', 'bank', 'siguro', 'samantha', 'glo', 'hotee-mi', 'ariana', 'comedi', 'x17', 'aidzin', 'rigid', 'letshavecocktailsafternuclai', '2emt', 'catchi', 'cjradacomateada', 'heart', 'na-tak', 'bianca', '🎀', \"tomorrow'\", 'studi', 'pamuk', 'koyal', 'sapiosexu', 'sampl', 'rapist', \"sterling'\", 'receiv', 'suit', 'stock', 'idiot', 'kang', 'lah', 'über', 'weebli', 'tradetalk', 'email', 'dancer', 'geneva', 'enough', 'respect', 'aaahhh', 'buuut', 'p90x', 'companion', 'bristol', 'aluminiumfre', 'buttt', 'glue', 'fss', 'tine', 'greec', 'internship', 'afternon', 'yeeeyyy', 'judo', 'serbian', \"people'\", '6gb', 'event', 'vii', 'yvett', 'dunkin', 'outnumb', 'dii', 'economi', 'mix', 'sure', 'colleg', 'ekta', 'greatli', 'last', 'guinea', 'alhamdullilah', 'krispi', 'yaad', 'jebbush', 'ver', 'gran', 'everywher', 'fck', '♡', 'okay', 'gave', 'construct', 'op', 'okkay', 'findyourfit', 'infrastructur', 'ov', 'derek', 'hmmm', 'ykr', 'huhuhu', 'overgener', 'choker', 'bear', 'bay', 'frequent', 'fallout', 'case', 'inbox', 'fantasi', 'nicola', 'crack', 'tayo', 'cusp', 'clock', 'takesonetoknowon', 'kashi', 'slice', 'yang', 'inform', 'spray', 'bblf', 'rita', 'posti', 'baat', 'paralysi', 'anxiou', 'xx', 'backflip', 'diesel', 'shoeshi', 'fandom', 'accept', 'kebaya', 'smug', '21pic', 'boyfriend', 'weav', 'solut', 'empow', \"else'\", 'baechyyi', '30juli', 'beatport', 'pack', 'papertown', 'jisoo', 'chanel', 'hamstr', 'auspost', 'pyjama', 'sea', 'todayyy', 'accnt', 'sakura', 'dispatch', 'soooner', 'samjha', 'annyeong', 'bap', 'shawn', 'risk', 'liverpool', 'goodby', 'gurl', 'gudday', 'anywayhedidanicejob', 'stu', 'batalladelosgallo', 'wetherspoon', 'express', 'العنزي', 'previou', 'storifi', 'suck', 'dampen', 'ravag', 'pm', 'chickmt', 'nintendo', 'domesticviol', '😪', 'arian', 'lilydal', 'gold', 'requir', 'aaaaaaaaah', 'lizaminnelli', 'pbb', 'critic', 'pleas', 'bat', \"lassi'\", 'tgif', 'floof', 'superjunior', 'tearout', 'bb17', '...', 'tattoo', 'self-publish', 'ij', 'gue', 'happen', '💟', 'condit', 'clearli', 'bahari', 'patric', 'structur', 'kumpul', 'ewok', 'belat', 'seungchan', 'doushit', 'ihatesomepeopl', 'kati', 'labyo', 'gotcha', \"we'll\", 'exploit', 'actress', 'lotteri', 'bo3', 'life-so', 'cutest', 'aspetti', 'dare', '🎉', 'yaytheylookgreat', 'behav', 'unknown', 'twist', 'base', 'ncaaseason', 'super-blend', 'lost', 'juja', 'transfer', 'koala', 'daredevil', 'cred', 'sweat', 'memotohat', 'lession', 'in-sensit', 'xxx', \"they'v\", 'common', '🍜', 'rank', 'eliss', 'han', '2500k', 'pll', 'eyelin', 'srsli', 'startupph', 'useless', 'across', 'nonc', 'neil', 'helium', 'crappl', 'eas', 'charact', 'choreograph', 'bungi', 'magcon', 'booor', 'recit', 'process', 'indict', 'alex', 'blockjam', 'pitbul', 'legibl', '→', 'baechu', 'fitn', 'soulsurvivor', 'slam', 'getaway', 'conven', 'dress', 'pi', 'dark', 'yuna', 'scan', 'drag', 'meet', 'therapi', '61', 'cycl', 'boaz', 'zoe', 'famish', 'drew', 'shane', 'slightli', 'sponsorship', 'phantasi', 'magpi', 'treviso', 'defend', 'healthi', \"we'd\", 'monash', 'heartbeat', 'maverickgam', 'countthecost', 'narco', 'babyyi', 'feedback', 'strongest', 'click', 'basemap', 'recommend', 'x9', 'contempl', 'onlin', 'tologooo', 'school', 'ob', 'father', 'respons', \"delevingne'\", 'wow', 'njoy', 'beg', 'coconut', 'firm', 'trail', 'darlen', '2cope', 'majhwar', 'sth', 'cumshot', 'birth', 'go', 'alumni', 'grow', 'regen', 'juicebro', 'enemi', 'otherwis', 'routin', 'wall', 'minkyuk', 'iqrar', '08', 'seri', 'xcylin', 'bugatti', 'pretend', 'cumbria', 'andal', 'pd', 'feder', 'bigtim', 'cooper', 'wotw', 'diffici', 'extrem', 'favour', '┓', '2.0', 'tay', 'ily.melani', 'cosplayprogress', 'salsa', '🐢', 'om', 'ninasti', 'aaaand', '22', 'loung', 'haileyhelp', 'yok', 'miser', 'everi', 'scone', 'peak', 'woza', 'diarrhea', 'selo', 'anta', 'leno', 'zehr', 'roma', 'stafford', 'srijith', 'bakwa', 'becho', 'directx', '4-6', 'yeah', 'motn', 'hii', 'introduc', 'neglect', 'honest', 'regularli', 'per', 'korean', 'paper', '20', 'kahlil', 'busier', 'billi', 'frnd', '89.9', 'sent', 'america', 'hz', 'slovak', 'tthank', 'noo', \"finnick'\", 'x11', 'italian', 'sandboard', 'chaerin', 'fill', 'waduh', 'ey', 'yell', 'pbevent', 'select', 'describ', 'auvssscr', 'reh', 'loan', 'rash', 'newwin', 'cintiq', '🌎', 'influenti', 'gale', 'pallavi', 'custom', 'materi', 'remind', 'colleagu', 'mostest', '😚', 'kha', 'selen', 'vote', 'pocket', 'rude', 'branch', 'club', 'dum', 'bebe', 'took', 'ehdar', 'hahaah', 'agn', 'f1', 'langkawi', 'krystoria', 'gta', 'nailedit', '16/17', 'laid', 'symphoni', 'plz', 'houston', 'courier', 'palac', 'outfit', '28', 'messi', 'kingfish', 'akong', 'jordan', 'firmansyahbl', 'delay', 'weekli', 'bbi', 'honour', 'nois', 'guysss', 'ngarepfollbackdarinabilahjkt', 'allah', 'fish', 'mutt', 'reaapear', 'inni', 'tire', 'everybodi', 'stamina', 'hero', 'platon', 'nemesi', 'mosquito', 'goodafternoon', 'upgrad', 'samosa', 'homegirl', 'woaah', 'luv', 'sialan', 'hq', 'superstar', '5:08', 'request', 'junmyeon', 'wise', 'nathan', 'noooo', '😍', 'act', 'nicki', 'taknottem', 'ew', 'madam', 'townsss', 'panga', 'peel', 'bleak', 'damag', 'biodivers', 'radio', 'giggl', 'trade', 'agenc', 'jotzh', 'impact', 'crisp', 'xpax', 'oitnb', 'red', 'impress', 'garbi', 'fridg', 'paramed', '76', 'dorm', 'shouldeeerr', 'theres', 'mnwreeen', 'madison', '17', 'bf', 'naeun', 'em', 'wwooo', 'mouth', 'retweet', 'hiss', 'bish', '1li', 'produc', 'prokabaddi', 'charg', 'takfaham', 'carli', 'pray', 'sneak', 'prepaid', 'neal', 'gram', 'holder', 'tita', 'bow', 'cosplay', 'ik', 'ben', 'tweetin', 'rightnow', '0ne', \"there'r\", \"dongwoo'\", 'lay', '91', 'expand', 'machineri', 'burberri', 'snapchat', 'tack', 'rewert', '15-24', '873', 'curiou', 'tara', 'speed', 'brandi', 'mubarik', 'na', 'advanc', 'enter', 'wail', 'bulli', 'fuckin', 'assur', 'illa', 'best', 'foreveralon', 'saran', 'earlier', 'york', 'kebun', 'srri', 'seem', 'jangli', 'credit', 'zealand', 'arnd', '3:30', 'donat', 'dentist', 'intro', 'iamca', 'fiesta', 'letsfootbal', 'baareeq', 'bother', 'sonic', 'consum', 'beh', 'unneed', \"dad'\", 'bbb', 'eyesight', 'highvalu', 'himseek', '452b', 'olli', 'vampir', 'threat', 'health', 'aja', 'urock', 'gooo', 'googl', 'tooo', 'distract', 'irl', 'sake', 'suan', 'attend', 'welcometweet', 'btwn', 'gotta', 'poop', 'correct', 'charl', 'popular', 'imag', 'luckili', 'jungl', 'sneezi', \"could'v\", 'immatur', 'slip', '95', 'switch', 'fersure', 'norwegian', 'swift', 'gua', 'ebay', 'den', 'tissu', 'foto', 'noesss', 'hsould', 'grepe', 'california', 'chang', 'dia', \"god'\", 'nstp', 'natur', 'up.com', 'foundri', '15', '4mi', 'mene', 'finger', 'zareen', 'camera', 'yeeaayi', 'kev', 'wsalelov', 'depart', 'tbc', 'oliv', 'poni', '624', 'striker', 'blow', 'btu', 'epiphani', 'dresscod', 'forc', 'new', 'snow', 'happend', 'car', 'fever', 'soo', 'stab', 'a', 'tk', 'sexyjan', 'fashion', 'opinion', 'gunna', 'worth', 'rm35', 'mixer', 'effect', 'alright', 'critiqu', 'suk', 'villag', 'exercis', '👊', 'wan', 'pinya', 'olymp', 'chick-fil-a', 'preorder', 'tower', '76x', 'عن', 'fraud', 'header', 'wht', 'domino', 'tix', 'sick', 'inuyasha', 'fyi', 'negoti', 'wo', 'whitey', 'egypt', 'swallow', 'tam', 'recharg', 'freed', 'scenario', 'van', 'exampl', 'fotoset', 'boggl', 'rosidbinr', 'hubbi', 'commun', 'khami', \"schedule'\", 'frank', 'pict', 'put', 'friend', 'rrp', 'eish', 'notif', 'vet', 'rlli', 'uncut', 'thought', 'doabl', 'x46', 'desktop', '😆', 'videosta', 'impli', 'americano', 'rbi', 'hi', 'paypal', 'ehn', 'desir', 'aliv', 'provid', 'clapham', 'hun', 'futurereleas', 'goalscor', 'imagin', 'charad', 'marula', 'hr', 'ouh', 'influenc', 'simpson', '300', '☆', '3am', 'nwb', 'cl', 'kandekj', 'dearslim', 'burket', 'runescap', 'thatselfiethough', 'android', '3:02', 'guest', 'meaning', '87.7', 'period', 'blight', 'experttradesmen', 'jake', 'brian', 'abligaverin', 'unexpect', 'tirth', 'hungrrryyi', '🔥', 'tittheir', 'stackar', 'pli', 'jsl', 'who', 'pube', 'stash', 'wayn', 'carriageway', 'reward', 'warrior', 'sandcastl', 'notanapolog', 'random', 'ikr', 'jeremi', 'bro', 'porn', 'nawwwe', 'helpinggroupdm', 'squishi', 'donno', 'crueler', 'cheetah', 'partli', 'iran', 'looww', 'muslim', 'vitamin', 'what-is-your-fashion', 'falco', '45', 'opposit', 'dudafti', '200', 'tmrw', 'checkout', 'sucki', 'milli', \"taeyeon'\", 'wale', 'magstart', 'kyli', 'petra', 'nsbzhdnxndamal', 'rap', \"m'ladi\", 'entlerbountli', 'initi', '318', 'nelson', 'tripathi', 're-cap', 'ugli', 'outtak', '10:16', 'justin', 'lsceen', 'degrassi', '337', 'streak', 'smf', 'din', 'dirtiest', 'neeein', 'stationeri', 'parasyt', 'shanzay', '▪', 'optim', 'фотосет', 'guncontrol', 'lq', 'abrupt', 'hsr', '0.7', '342', 'alreaddyyi', 'sauc', 'ironi', 'night', 'courgett', '4', 'doesnt', 'sweetheart', 'claim', 'popsicl', 'crowd', 'nrltigersroost', ';)', ':-d', 'be', 'rumpi', 'chloe', 'aerial', 'lyric', 'powerpoint', 'rosh', 'dessert', 'ourdisneyinfin', 'tbf', 'newblogpost', 'plss', 'shi', 'roast', '2-3', '891', \"today'\", \"d'd\", 'bgtau', 'manila_bro', '4aspot', 'where', 'frail', 'proverb', 'parrot', 'penacova', 'earthl', 'vv', 'harvest', 'braid', 'william', '640', 'netizen', 'diz', 'muriel', 'venom', \"kylie'\", 'rumor', 'fragment', 'med', 'bass', 'oss', 'saklap', 'leadership', 'possitv', 'yayayayay', 'portsmouth', 'es', 'tough', 'jen', 'otamendi', 'skype', 'dead', 'senior', 'menac', 'wave', 'restrict', 'course', 'internet', 'cornetto', 'duh', 'hope', '765', 'mayday', 'gol', 'person', 'festiv', 'esteem', 'girl', 'muntu', 'poem', 'defin', 'sleeep', 'close', '468', 'botan', 'quan', 'password', 'lami', 'rt', 'teamzip', 'unsettl', 'eighteen', 'midori', 'matchi', 'ufff', 'scrub', 'kit', 'horseracingtip', 'slideshow', 'refresh', 'calibraksaep', 'gyu', '479', 'submit', 'sham', 'jingli', 'frightl', '40', 'jim', 'barney', 'agonis', 'sjkao', ':-)', 'troop', 'rohit', 'stay_bless', \"you'\", 'graze', 'cinepambata', 'winter', 'regular', 'mybrainneedstoshutoff', 'surgeri', 'came', 'acheb', 'vin', 'sellyourcarin', 'moment', 'jet', 'emesh', 'layout', 'edgar', 'comfort', '2fm', 'rais', 'canadian', 'soundtrack', '더쇼', 'stori', 'sexygirlbypreciouslemmi', 'yellow', 'therealgolden', 'gene', 't___t', 'amb', 'door', 'injustic', 'hmph', 'youtu.be/2_gpctsojkw', 'sleep', 'favourit', 'demand', 'dd', '500', 'drake', 'pbr', 'mee', \"town'\", '11:11', '3000', 'victoria', '😀', 'sky', 'clinton', 'kitten', 'ta', 'nvr', 'inglewood', 'latt', 'mayb', 'bajrangibhaijaanhighestweek', 'timw', 'mtg', 'woke', 'felton', 'rajud', 'tessnzach', 'nai', 'deplet', 'brasileirao', 'ontheroadagain', 'panti', '35', 'l', 'till', 'fur-trim', 'mythic', 'beli̇ev', 'chronic', '2nite', 'dmme', 'subtitl', 'exo', 'guid', 'rizal', 'bhi', 'judg', 'leak', 'sonaaa', 'moar', 'wound', 'distant', 'gymnast', 'jeslyn', 'walay', 'inspirit', '645k', 'seeker', 'taxikitchen', 'mare', 'pabebegirl', 'sharm', 'blooper', 'joint', 'wealth', '626-430-8715', 'musicolog', 'weaker', 'videogam', 'hold', 'wheeen', '4/5', 'nate', 'homo', 'orig', 'sched', 'hug', 'ahhh', '🍤', 'ridicul', '87', 'al', 'westandwithik', 'beirut', 'tricki', 'golf', 'wordoftheweek', 'shape', 'stalk', 'seed', 'arummzz', 'ding', 'prosecco', 'data', 'x28', 'comic', 'dz9055', 'sexyjudi', 'basket', 'av', 'ador', 'ang', 'birmingham', 'ba', 'derbi', 'jhalak', 'simpli', 'calibraska', '>:d', 'ukrain', 'cope', 'count', 'p90', 'noodl', 'bh3', 'sp', 'coldest', 'mar', 'restor', 'concert', 'whangarei', 'fruit', 'dieididieieiei', 'crown', 'beij', 'peac', 'kapatidkongpogi', 'no-no', 'limit', 'mirror', 'eric', 'ano', 'bittersweet', 'crisi', 'oomf', 'bar', 'shitfac', 'success', '0.001', 'ape', 'matter', 'court', 'flare', 'explorealberta', 'pout', 'approxim', 'death', 'town', 'bae', 'slow', 'jmu', 'pixgram', 'manga', 'bulat', 'campaign', 'satir', '.\\n.', 'bread', 'dua', 'nearer', 'spoke', 'suppl', 'ili', 'minju', 'neighbour', 'pregnanc', '72', 'trend', 'pit', 'chenab', 'beonknockknock', '874', 'iyalaya', 'pal', 'easier', 'rachel', 'lyf', 'monteith', 'feed', 'hatigii', 'worthwhil', 'nawf', '33', 'dh', \"it'd\", 'organ', 'rn', '8', 'j', 'youngnaturallead', 'livesex', 'yah', 'cricket', 'sme', 'hahahahahhaha', 'hyungbot', 'feverfew', 'review', 'diego', 'gem', 'found', 'sengenza', 'land', 'home-bas', 'ratbaglat', 'develop', 'laughter', 'youll', 'roller', 'sept', 'forget', 'fool', 'weirddd', 'unansw', 'associ', 'campu', '💘', 'misss', 'm5m6junction', 'delici', 'zikra', '💜', 'dissip', 'sexual', 'civil', '´', 'decis', 'redeem', '@artofsleepingin', 'alien', 'doctor', 'reynoldsgrl', 'horrend', 'option', 'verifi', 'tear', 'enrol', 'sini', 'ht', 'lui', 'lune', 'muna', 'jacki', '6-5', 'si', 'teacher', 'warnaaa', 'vainglori', 'dancetast', 'bcz', 'jaclintil', 'thrown', 'phase', 'christma', 'atl', 'worker', 'glad', 'sort', 'coffe', 'tickl', 'insonia', '💅🏽', 'umaga', 'defens', 'selfshot', 'reunit', '009', 'gal', 'ditch', 'esp', 'year', 'daft', '1month', 'jemma', 'killua', 'bark', 'lifestyl', '10,000', 'zopiclon', 'comp', 'ever', 'moo', 'imi', 'holi', 'inner', 'buff', 'ultor', \"thát'\", 'wallet', 'unev', 'noth', '85552', 'ashton', 'watchdog', 'dubai', 'redecor', 'mcdo', 'itti', 'agayhippiehippi', 'larri', 'playabl', 'own', 'real', 'can', 'mmmm', 'auguri', 'chal', 'loryn.good@lincs-chamber.co.uk', 'alot', 'straw', 'unni', 'lux', 'hawk', 'linux', 'massiv', 'us-iran', 'damn', 'kizomba', 'ngee', 'stroke', 'hippo', 'offroad', 'sheskindahot', 'jackson', 'camp', 'bp', 'hillari', 'bias', 'yipppi', 'centralis', 'intend', 'nichola', 'banda', 'deposit', 'bip', 'prompt', 'quit', 'dale', 'mohapatra', 'photo', 'footbal', 'sbali', 'bbmadeinmanila', 'carmel', 'hubba', '12000', 'detail', 'ken', 'opportun', 'major', 'galat', 'dkt', '328', \"tonight'\", 'feel', \"b'coz\", 'relev', 'youv', 'delhi', 'ser', 'kno', 'rapunzel', 'shadowplayloui', 'hauc', '2009', 'plug', 'lotsa', 'center', 'vs', 'habe', 'forgiv', \"barrista'\", 'btw', 'side', 'nila', 'jgh', 'fleekil', 'pump', 'hhahahahaha', 'gang', 'niam', 'kei', 'feytyaz', 'realis', 'nhe', 'aggreg', 'eh', '642', 'choiceinternationalartist', 'crumbl', 'noggin', 'tengkuaaronshah', 'cough', 'heath', 'sticker', '324', \"eye'\", 'thx', 'finland', 'pc', 'engin', 'lee', 'mubarak', 'sinist', 'former', 'talent', 'strang', 'pyaaz', 'honma', 'distrub', 'heheh', 'tuesday', 'jo', 'har', 'program', 'sloppi', \"khloe'\", 'rush', 'v', '12.00', 'cool', 'boredom', 'kasi', 'sheen', 'goddamn', 'ireland', '347', 'virgin', 'thrive', 'newbethvideo', '. ...', '18', 'wrack', 'rotat', 'hashtag', 'laiten', 'abi', 'karaok', 'nikki', 'equal', 'bestfriend', 'heatwav', 'expens', 'phone', \"melody'\", 'heck', 'wkend', 'pooo', 'tent', 'singer', 'friendzon', 'list', 'imit', 'melt', 'gtg', 'tight', 'sissi', 'hall', 'whammi', '11:25', 'wsj', '121st', 'barsostay', 'hardcor', 'kayo', 'mamayang', 'ion', 'whip', 'tick', 'leo', 'itong', 'sizam', 'juan', 'meter', 'spread', 'showpo', 'helen', 'cuuut', 'noob', 'skin', 'ummm', 'fixedgearfrenzi', 'ne', 'tiredashel', 'findavip', 'subj', 'well', 'eintlik', 'robert', 'bandz', 'ito', 'theyr', '”', 'boy', 'ink', 'mingm', 'swore', 'move', 'servic', 'clich', 'til', 'aj', 'alert', 'x29'}\n"
     ]
    }
   ],
   "source": [
    "# Build the freqs dictionary for later uses\n",
    "freqs = count_tweets({}, train_x, train_y)\n",
    "\n",
    "# Print a random sample\n",
    "print(list(freqs.items())[42])\n",
    "print(len(list(freqs.keys())))\n",
    "print(len(list(k for k, v in freqs.keys() if k == 'one')))\n",
    "print(len(set(list(k for k, v in freqs.keys()))))\n",
    "print(set(list(k for k, v in freqs.keys())))\n"
   ]
  },
  {
   "cell_type": "markdown",
   "metadata": {},
   "source": [
    "<a name='ex-2'></a>\n",
    "### Exercise 2 - train_naive_bayes\n",
    "Given a freqs dictionary, `train_x` (a list of tweets) and a `train_y` (a list of labels for each tweet), implement a naive bayes classifier.\n",
    "\n",
    "##### Calculate $V$\n",
    "- You can then compute the number of unique words that appear in the `freqs` dictionary to get your $V$ (you can use the `set` function).\n",
    "\n",
    "##### Calculate $freq_{pos}$ and $freq_{neg}$\n",
    "- Using your `freqs` dictionary, you can compute the positive and negative frequency of each word $freq_{pos}$ and $freq_{neg}$.\n",
    "\n",
    "##### Calculate $N_{pos}$, and $N_{neg}$\n",
    "- Using `freqs` dictionary, you can also compute the total number of positive words and total number of negative words $N_{pos}$ and $N_{neg}$.\n",
    "\n",
    "##### Calculate $D$, $D_{pos}$, $D_{neg}$\n",
    "- Using the `train_y` input list of labels, calculate the number of documents (tweets) $D$, as well as the number of positive documents (tweets) $D_{pos}$ and number of negative documents (tweets) $D_{neg}$.\n",
    "- Calculate the probability that a document (tweet) is positive $P(D_{pos})$, and the probability that a document (tweet) is negative $P(D_{neg})$\n",
    "\n",
    "##### Calculate the logprior\n",
    "- the logprior is $log(D_{pos}) - log(D_{neg})$\n",
    "\n",
    "##### Calculate log likelihood\n",
    "- Finally, you can iterate over each word in the vocabulary, use your `lookup` function to get the positive frequencies, $freq_{pos}$, and the negative frequencies, $freq_{neg}$, for that specific word.\n",
    "- Compute the positive probability of each word $P(W_{pos})$, negative probability of each word $P(W_{neg})$ using equations 4 & 5.\n",
    "\n",
    "$$ P(W_{pos}) = \\frac{freq_{pos} + 1}{N_{pos} + V}\\tag{4} $$\n",
    "$$ P(W_{neg}) = \\frac{freq_{neg} + 1}{N_{neg} + V}\\tag{5} $$\n",
    "\n",
    "**Note:** We'll use a dictionary to store the log likelihoods for each word.  The key is the word, the value is the log likelihood of that word).\n",
    "\n",
    "- You can then compute the loglikelihood: $log \\left( \\frac{P(W_{pos})}{P(W_{neg})} \\right)$."
   ]
  },
  {
   "cell_type": "code",
   "execution_count": 8,
   "metadata": {},
   "outputs": [],
   "source": [
    "# UNQ_C2 GRADED FUNCTION: train_naive_bayes\n",
    "import json\n",
    "    \n",
    "def map_dict(d):\n",
    "    return {str(k): v for k, v in d.items()}\n",
    "\n",
    "\n",
    "def train_naive_bayes(freqs, train_x, train_y):\n",
    "    '''\n",
    "    Input:\n",
    "        freqs: dictionary from (word, label) to how often the word appears\n",
    "        train_x: a list of tweets\n",
    "        train_y: a list of labels corresponding to the tweets (0,1)\n",
    "    Output:\n",
    "        logprior: the log prior. (equation 3 above)\n",
    "        loglikelihood: the log likelihood of you Naive bayes equation. (equation 6 above)\n",
    "    '''\n",
    "    loglikelihood = {}\n",
    "    logprior = 0\n",
    "\n",
    "    ### START CODE HERE ###\n",
    "\n",
    "    # calculate V, the number of unique words in the vocabulary\n",
    "    vocab = freqs\n",
    "    V = (len(set(list(k for k, v in vocab.keys()))))\n",
    "    \n",
    "\n",
    "    # calculate N_pos, N_neg, V_pos, V_neg\n",
    "    N_pos = N_neg = 0\n",
    "    for pair in freqs.keys():\n",
    "        # if the label is positive (greater than zero)\n",
    "        if pair[1] > 0:\n",
    "\n",
    "            # Increment the number of positive words by the count for this (word, label) pair\n",
    "            N_pos += freqs[pair]\n",
    "\n",
    "        # else, the label is negative\n",
    "        else:\n",
    "\n",
    "            # increment the number of negative words by the count for this (word,label) pair\n",
    "            N_neg += freqs[pair]\n",
    "    \n",
    "    # Calculate D, the number of documents\n",
    "    D = len(train_y)\n",
    "\n",
    "    # Calculate D_pos, the number of positive documents\n",
    "    D_pos = len([k for k in train_y if k == 1])\n",
    "\n",
    "    # Calculate D_neg, the number of negative documents\n",
    "    D_neg = len([k for k in train_y if k == 0])\n",
    "\n",
    "\n",
    "    # Calculate logprior\n",
    "    logprior = np.log(D_pos) - np.log(D_neg)\n",
    "\n",
    "\n",
    "    # For each word in the vocabulary...\n",
    "\n",
    "    # print(N_pos, N_neg)\n",
    "    # tmp = 0\n",
    "    # for tes in freqs.keys():\n",
    "    #     tmp += freqs[tes]\n",
    "        \n",
    "    # print(tmp)\n",
    "\n",
    "    # tes = 0\n",
    "\n",
    "    a = False\n",
    "    for word in vocab:\n",
    "        # get the positive and negative frequency of the word\n",
    "        freq_pos = lookup(vocab, word[0], 1)\n",
    "        freq_neg = lookup(vocab,word[0],0)\n",
    "\n",
    "        \n",
    "\n",
    "        # calculate the probability that each word is positive, and negative\n",
    "        p_w_pos = (freq_pos + 1) / (N_pos + V)\n",
    "        p_w_neg = (freq_neg + 1) / (N_neg + V)\n",
    "        \n",
    "        \n",
    "\n",
    "\n",
    "        # calculate the log likelihood of the word\n",
    "        loglikelihood[word[0]] = np.log(p_w_pos/p_w_neg)\n",
    "\n",
    "        # if not a and word[0] == 'smiled':\n",
    "        #     print (word)\n",
    "        #     print(freq_neg, freq_pos)\n",
    "        #     print(p_w_neg, p_w_pos)\n",
    "        #     print(np.log(p_w_pos/p_w_neg))\n",
    "        #     a = True\n",
    "\n",
    "        # tes += 1\n",
    "    ### END CODE HERE ###\n",
    "\n",
    "    return logprior, loglikelihood"
   ]
  },
  {
   "cell_type": "code",
   "execution_count": 9,
   "metadata": {
    "deletable": false,
    "editable": false
   },
   "outputs": [
    {
     "name": "stdout",
     "output_type": "stream",
     "text": [
      "0.0\n",
      "9161\n"
     ]
    }
   ],
   "source": [
    "# UNQ_C3 (UNIQUE CELL IDENTIFIER, DO NOT EDIT)\n",
    "logprior, loglikelihood = train_naive_bayes(freqs, train_x, train_y)\n",
    "print(logprior)\n",
    "print(len(loglikelihood))"
   ]
  },
  {
   "cell_type": "markdown",
   "metadata": {},
   "source": [
    "**Expected Output**:\n",
    "\n",
    "0.0\n",
    "\n",
    "9161"
   ]
  },
  {
   "cell_type": "markdown",
   "metadata": {},
   "source": [
    "<a name='3'></a>\n",
    "## 3 - Test your Naive Bayes\n",
    "\n",
    "Now that we have the `logprior` and `loglikelihood`, we can test the naive bayes function by making predicting on some tweets!\n",
    "\n",
    "<a name='ex-3'></a>\n",
    "### Exercise 3 - naive_bayes_predict\n",
    "Implement `naive_bayes_predict`.\n",
    "\n",
    "**Instructions**:\n",
    "Implement the `naive_bayes_predict` function to make predictions on tweets.\n",
    "* The function takes in the `tweet`, `logprior`, `loglikelihood`.\n",
    "* It returns the probability that the tweet belongs to the positive or negative class.\n",
    "* For each tweet, sum up loglikelihoods of each word in the tweet.\n",
    "* Also add the logprior to this sum to get the predicted sentiment of that tweet.\n",
    "\n",
    "$$ p = logprior + \\sum_i^N (loglikelihood_i)$$\n",
    "\n",
    "#### Note\n",
    "Note we calculate the prior from the training data, and that the training data is evenly split between positive and negative labels (4000 positive and 4000 negative tweets).  This means that the ratio of positive to negative 1, and the logprior is 0.\n",
    "\n",
    "The value of 0.0 means that when we add the logprior to the log likelihood, we're just adding zero to the log likelihood.  However, please remember to include the logprior, because whenever the data is not perfectly balanced, the logprior will be a non-zero value."
   ]
  },
  {
   "cell_type": "code",
   "execution_count": 10,
   "metadata": {},
   "outputs": [],
   "source": [
    "# UNQ_C4 GRADED FUNCTION: naive_bayes_predict\n",
    "\n",
    "def naive_bayes_predict(tweet, logprior, loglikelihood):\n",
    "    '''\n",
    "    Input:\n",
    "        tweet: a string\n",
    "        logprior: a number\n",
    "        loglikelihood: a dictionary of words mapping to numbers\n",
    "    Output:\n",
    "        p: the sum of all the logliklihoods of each word in the tweet (if found in the dictionary) + logprior (a number)\n",
    "\n",
    "    '''\n",
    "    ### START CODE HERE ###\n",
    "    # process the tweet to get a list of words\n",
    "    word_l = process_tweet(tweet)\n",
    "    # print(word_l)\n",
    "\n",
    "    # initialize probability to zero\n",
    "    p = 0\n",
    "\n",
    "    # add the logprior\n",
    "    p += logprior\n",
    "\n",
    "    for word in word_l:\n",
    "\n",
    "        # check if the word exists in the loglikelihood dictionary\n",
    "        if word in loglikelihood:\n",
    "            # add the log likelihood of that word to the probability\n",
    "            # print(word)\n",
    "            # print(loglikelihood[word])\n",
    "            p += loglikelihood[word]\n",
    "\n",
    "    ### END CODE HERE ###\n",
    "\n",
    "    return p"
   ]
  },
  {
   "cell_type": "code",
   "execution_count": 11,
   "metadata": {
    "deletable": false,
    "editable": false
   },
   "outputs": [
    {
     "name": "stdout",
     "output_type": "stream",
     "text": [
      "The expected output is 1.557492820301094\n"
     ]
    }
   ],
   "source": [
    "# UNQ_C5 (UNIQUE CELL IDENTIFIER, DO NOT EDIT)\n",
    "my_tweet = 'She smiled.'\n",
    "p = naive_bayes_predict(my_tweet, logprior, loglikelihood)\n",
    "print('The expected output is', p)"
   ]
  },
  {
   "cell_type": "markdown",
   "metadata": {},
   "source": [
    "**Expected Output**:\n",
    "- The expected output is around 1.55\n",
    "- The sentiment is positive."
   ]
  },
  {
   "cell_type": "code",
   "execution_count": 12,
   "metadata": {},
   "outputs": [
    {
     "name": "stdout",
     "output_type": "stream",
     "text": [
      "\u001b[92m All tests passed\n"
     ]
    }
   ],
   "source": [
    "# Test your function\n",
    "a1_unittest.test_naive_bayes_predict(naive_bayes_predict)"
   ]
  },
  {
   "cell_type": "code",
   "execution_count": 13,
   "metadata": {},
   "outputs": [
    {
     "name": "stdout",
     "output_type": "stream",
     "text": [
      "The expected output is -0.1652737774400095\n"
     ]
    }
   ],
   "source": [
    "# Experiment with your own tweet.\n",
    "my_tweet = 'He laughed.'\n",
    "p = naive_bayes_predict(my_tweet, logprior, loglikelihood)\n",
    "print('The expected output is', p)"
   ]
  },
  {
   "cell_type": "markdown",
   "metadata": {},
   "source": [
    "<a name='ex-4'></a>\n",
    "### Exercise 4 - test_naive_bayes\n",
    "Implement test_naive_bayes.\n",
    "\n",
    "**Instructions**:\n",
    "* Implement `test_naive_bayes` to check the accuracy of your predictions.\n",
    "* The function takes in your `test_x`, `test_y`, log_prior, and loglikelihood\n",
    "* It returns the accuracy of your model.\n",
    "* First, use `naive_bayes_predict` function to make predictions for each tweet in text_x."
   ]
  },
  {
   "cell_type": "code",
   "execution_count": 14,
   "metadata": {},
   "outputs": [],
   "source": [
    "# UNQ_C6 GRADED FUNCTION: test_naive_bayes\n",
    "\n",
    "def test_naive_bayes(test_x, test_y, logprior, loglikelihood, naive_bayes_predict=naive_bayes_predict):\n",
    "    \"\"\"\n",
    "    Input:\n",
    "        test_x: A list of tweets\n",
    "        test_y: the corresponding labels for the list of tweets\n",
    "        logprior: the logprior\n",
    "        loglikelihood: a dictionary with the loglikelihoods for each word\n",
    "    Output:\n",
    "        accuracy: (# of tweets classified correctly)/(total # of tweets)\n",
    "    \"\"\"\n",
    "    accuracy = 0  # return this properly\n",
    "\n",
    "    ### START CODE HERE ###\n",
    "    y_hats = []\n",
    "    for tweet in test_x:\n",
    "        # if the prediction is > 0\n",
    "        if naive_bayes_predict(tweet, logprior, loglikelihood) > 0:\n",
    "            # the predicted class is 1\n",
    "            y_hat_i = 1\n",
    "        else:\n",
    "            # otherwise the predicted class is 0\n",
    "            y_hat_i = 0\n",
    "\n",
    "        # append the predicted class to the list y_hats\n",
    "        y_hats.append(y_hat_i)\n",
    "\n",
    "    # error is the average of the absolute values of the differences between y_hats and test_y\n",
    "    error = 1 - np.sum(y_hats == test_y) / test_y.size\n",
    "\n",
    "\n",
    "\n",
    "    # Accuracy is 1 minus the error\n",
    "    accuracy = np.sum(y_hats == test_y) / test_y.size\n",
    "\n",
    "    ### END CODE HERE ###\n",
    "\n",
    "    return accuracy"
   ]
  },
  {
   "cell_type": "code",
   "execution_count": 15,
   "metadata": {},
   "outputs": [
    {
     "name": "stdout",
     "output_type": "stream",
     "text": [
      "Naive Bayes accuracy = 0.9955\n"
     ]
    }
   ],
   "source": [
    "print(\"Naive Bayes accuracy = %0.4f\" %\n",
    "      (test_naive_bayes(test_x, test_y, logprior, loglikelihood)))"
   ]
  },
  {
   "cell_type": "markdown",
   "metadata": {},
   "source": [
    "**Expected Accuracy**:\n",
    "\n",
    "`Naive Bayes accuracy = 0.9955`"
   ]
  },
  {
   "cell_type": "code",
   "execution_count": 16,
   "metadata": {
    "deletable": false,
    "editable": false,
    "scrolled": true
   },
   "outputs": [
    {
     "name": "stdout",
     "output_type": "stream",
     "text": [
      "I am happy -> 2.14\n",
      "I am bad -> -1.31\n",
      "this movie should have been great. -> 2.12\n",
      "great -> 2.13\n",
      "great great -> 4.26\n",
      "great great great -> 6.39\n",
      "great great great great -> 8.52\n"
     ]
    }
   ],
   "source": [
    "# UNQ_C7 (UNIQUE CELL IDENTIFIER, DO NOT EDIT)\n",
    "# Run this cell to test your function\n",
    "for tweet in ['I am happy', 'I am bad', 'this movie should have been great.', 'great', 'great great', 'great great great', 'great great great great']:\n",
    "    # print( '%s -> %f' % (tweet, naive_bayes_predict(tweet, logprior, loglikelihood)))\n",
    "    p = naive_bayes_predict(tweet, logprior, loglikelihood)\n",
    "#     print(f'{tweet} -> {p:.2f} ({p_category})')\n",
    "    print(f'{tweet} -> {p:.2f}')"
   ]
  },
  {
   "cell_type": "markdown",
   "metadata": {},
   "source": [
    "**Expected Output**:\n",
    "- I am happy -> 2.14\n",
    "- I am bad -> -1.31\n",
    "- this movie should have been great. -> 2.12\n",
    "- great -> 2.13\n",
    "- great great -> 4.26\n",
    "- great great great -> 6.39\n",
    "- great great great great -> 8.52"
   ]
  },
  {
   "cell_type": "code",
   "execution_count": 17,
   "metadata": {},
   "outputs": [
    {
     "data": {
      "text/plain": [
       "-8.837962482271395"
      ]
     },
     "execution_count": 17,
     "metadata": {},
     "output_type": "execute_result"
    }
   ],
   "source": [
    "# Feel free to check the sentiment of your own tweet below\n",
    "my_tweet = 'you are bad :('\n",
    "naive_bayes_predict(my_tweet, logprior, loglikelihood)"
   ]
  },
  {
   "cell_type": "code",
   "execution_count": 18,
   "metadata": {},
   "outputs": [
    {
     "name": "stdout",
     "output_type": "stream",
     "text": [
      "\u001b[92m All tests passed\n"
     ]
    }
   ],
   "source": [
    "# Test your function\n",
    "a1_unittest.unittest_test_naive_bayes(test_naive_bayes, test_x, test_y)"
   ]
  },
  {
   "cell_type": "markdown",
   "metadata": {},
   "source": [
    "<a name='4'></a>\n",
    "## 4 - Filter words by Ratio of Positive to Negative Counts\n",
    "\n",
    "- Some words have more positive counts than others, and can be considered \"more positive\".  Likewise, some words can be considered more negative than others.\n",
    "- One way for us to define the level of positiveness or negativeness, without calculating the log likelihood, is to compare the positive to negative frequency of the word.\n",
    "    - Note that we can also use the log likelihood calculations to compare relative positivity or negativity of words.\n",
    "- We can calculate the ratio of positive to negative frequencies of a word.\n",
    "- Once we're able to calculate these ratios, we can also filter a subset of words that have a minimum ratio of positivity / negativity or higher.\n",
    "- Similarly, we can also filter a subset of words that have a maximum ratio of positivity / negativity or lower (words that are at least as negative, or even more negative than a given threshold).\n",
    "\n",
    "<a name='ex-5'></a>\n",
    "### Exercise 5 - get_ratio\n",
    "Implement get_ratio.\n",
    "\n",
    "- Given the freqs dictionary of words and a particular word, use `lookup(freqs,word,1)` to get the positive count of the word.\n",
    "- Similarly, use the `lookup` function to get the negative count of that word.\n",
    "- Calculate the ratio of positive divided by negative counts\n",
    "\n",
    "$$ ratio = \\frac{pos\\_words + 1}{neg\\_words + 1} $$\n",
    "\n",
    "Where pos_words and neg_words correspond to the frequency of the words in their respective classes. \n",
    "<table>\n",
    "    <tr>\n",
    "        <td>\n",
    "            <b>Words</b>\n",
    "        </td>\n",
    "        <td>\n",
    "        Positive word count\n",
    "        </td>\n",
    "         <td>\n",
    "        Negative Word Count\n",
    "        </td>\n",
    "  </tr>\n",
    "    <tr>\n",
    "        <td>\n",
    "        glad\n",
    "        </td>\n",
    "         <td>\n",
    "        41\n",
    "        </td>\n",
    "    <td>\n",
    "        2\n",
    "        </td>\n",
    "  </tr>\n",
    "    <tr>\n",
    "        <td>\n",
    "        arriv\n",
    "        </td>\n",
    "         <td>\n",
    "        57\n",
    "        </td>\n",
    "    <td>\n",
    "        4\n",
    "        </td>\n",
    "  </tr>\n",
    "    <tr>\n",
    "        <td>\n",
    "        :(\n",
    "        </td>\n",
    "         <td>\n",
    "        1\n",
    "        </td>\n",
    "    <td>\n",
    "        3663\n",
    "        </td>\n",
    "  </tr>\n",
    "    <tr>\n",
    "        <td>\n",
    "        :-(\n",
    "        </td>\n",
    "         <td>\n",
    "        0\n",
    "        </td>\n",
    "    <td>\n",
    "        378\n",
    "        </td>\n",
    "  </tr>\n",
    "</table>"
   ]
  },
  {
   "cell_type": "code",
   "execution_count": 19,
   "metadata": {},
   "outputs": [],
   "source": [
    "# UNQ_C8 GRADED FUNCTION: get_ratio\n",
    "\n",
    "def get_ratio(freqs, word):\n",
    "    '''\n",
    "    Input:\n",
    "        freqs: dictionary containing the words\n",
    "\n",
    "    Output: a dictionary with keys 'positive', 'negative', and 'ratio'.\n",
    "        Example: {'positive': 10, 'negative': 20, 'ratio': 0.5}\n",
    "    '''\n",
    "    pos_neg_ratio = {'positive': 0, 'negative': 0, 'ratio': 0.0}\n",
    "    ### START CODE HERE ###\n",
    "    # use lookup() to find positive counts for the word (denoted by the integer 1)\n",
    "    pos_neg_ratio['positive'] = lookup(freqs,word,1)\n",
    "    \n",
    "    # use lookup() to find negative counts for the word (denoted by integer 0)\n",
    "    pos_neg_ratio['negative'] = lookup(freqs,word,0)\n",
    "    \n",
    "    # calculate the ratio of positive to negative counts for the word\n",
    "    pos_neg_ratio['ratio'] = (lookup(freqs,word,1) + 1) / (lookup(freqs,word,0) + 1)\n",
    "    ### END CODE HERE ###\n",
    "    return pos_neg_ratio\n"
   ]
  },
  {
   "cell_type": "code",
   "execution_count": 20,
   "metadata": {},
   "outputs": [
    {
     "data": {
      "text/plain": [
       "{'positive': 162, 'negative': 18, 'ratio': 8.578947368421053}"
      ]
     },
     "execution_count": 20,
     "metadata": {},
     "output_type": "execute_result"
    }
   ],
   "source": [
    "get_ratio(freqs, 'happi')"
   ]
  },
  {
   "cell_type": "code",
   "execution_count": 21,
   "metadata": {},
   "outputs": [
    {
     "name": "stdout",
     "output_type": "stream",
     "text": [
      "\u001b[92m All tests passed\n"
     ]
    }
   ],
   "source": [
    "# Test your function\n",
    "a1_unittest.test_get_ratio(get_ratio, freqs)"
   ]
  },
  {
   "cell_type": "markdown",
   "metadata": {},
   "source": [
    "<a name='ex-6'></a>\n",
    "### Exercise 6 - get_words_by_threshold\n",
    "Implement get_words_by_threshold(freqs,label,threshold)\n",
    "\n",
    "* If we set the label to 1, then we'll look for all words whose threshold of positive/negative is at least as high as that threshold, or higher.\n",
    "* If we set the label to 0, then we'll look for all words whose threshold of positive/negative is at most as low as the given threshold, or lower.\n",
    "* Use the `get_ratio` function to get a dictionary containing the positive count, negative count, and the ratio of positive to negative counts.\n",
    "* Append the `get_ratio` dictionary inside another dictinoary, where the key is the word, and the value is the dictionary `pos_neg_ratio` that is returned by the `get_ratio` function.\n",
    "An example key-value pair would have this structure:\n",
    "```\n",
    "{'happi':\n",
    "    {'positive': 10, 'negative': 20, 'ratio': 0.524}\n",
    "}\n",
    "```"
   ]
  },
  {
   "cell_type": "code",
   "execution_count": 22,
   "metadata": {},
   "outputs": [],
   "source": [
    "# UNQ_C9 GRADED FUNCTION: get_words_by_threshold\n",
    "\n",
    "def get_words_by_threshold(freqs, label, threshold, get_ratio=get_ratio):\n",
    "    '''\n",
    "    Input:\n",
    "        freqs: dictionary of words\n",
    "        label: 1 for positive, 0 for negative\n",
    "        threshold: ratio that will be used as the cutoff for including a word in the returned dictionary\n",
    "    Output:\n",
    "        word_list: dictionary containing the word and information on its positive count, negative count, and ratio of positive to negative counts.\n",
    "        example of a key value pair:\n",
    "        {'happi':\n",
    "            {'positive': 10, 'negative': 20, 'ratio': 0.5}\n",
    "        }\n",
    "    '''\n",
    "    word_list = {}\n",
    "\n",
    "    ### START CODE HERE ###\n",
    "    for key in freqs.keys():\n",
    "        word, _ = key\n",
    "\n",
    "        # get the positive/negative ratio for a word\n",
    "        pos_neg_ratio = get_ratio(freqs,word)\n",
    "\n",
    "        # if the label is 1 and the ratio is greater than or equal to the threshold...\n",
    "        if label == 1 and pos_neg_ratio['ratio'] >= threshold:\n",
    "        \n",
    "            # Add the pos_neg_ratio to the dictionary\n",
    "            word_list[word] = pos_neg_ratio['ratio']\n",
    "\n",
    "        # If the label is 0 and the pos_neg_ratio is less than or equal to the threshold...\n",
    "        elif label == 0 and pos_neg_ratio['ratio'] <= threshold:\n",
    "        \n",
    "            # Add the pos_neg_ratio to the dictionary\n",
    "            word_list[word] = pos_neg_ratio['ratio']\n",
    "\n",
    "        # otherwise, do not include this word in the list (do nothing)\n",
    "\n",
    "    ### END CODE HERE ###\n",
    "    return word_list\n"
   ]
  },
  {
   "cell_type": "code",
   "execution_count": 23,
   "metadata": {},
   "outputs": [
    {
     "data": {
      "text/plain": [
       "{':(': 0.000544069640914037,\n",
       " ':-(': 0.002583979328165375,\n",
       " 'zayniscomingbackonjuli': 0.05,\n",
       " '26': 0.047619047619047616,\n",
       " '>:(': 0.022727272727272728,\n",
       " 'lost': 0.05,\n",
       " '♛': 0.004739336492890996,\n",
       " '》': 0.004739336492890996,\n",
       " 'beli̇ev': 0.027777777777777776,\n",
       " 'wi̇ll': 0.027777777777777776,\n",
       " 'justi̇n': 0.027777777777777776,\n",
       " 'ｓｅｅ': 0.027777777777777776,\n",
       " 'ｍｅ': 0.027777777777777776}"
      ]
     },
     "execution_count": 23,
     "metadata": {},
     "output_type": "execute_result"
    }
   ],
   "source": [
    "# Test your function: find negative words at or below a threshold\n",
    "get_words_by_threshold(freqs, label=0, threshold=0.05)"
   ]
  },
  {
   "cell_type": "code",
   "execution_count": 24,
   "metadata": {},
   "outputs": [
    {
     "data": {
      "text/plain": [
       "{'followfriday': 24.0,\n",
       " 'commun': 14.0,\n",
       " ':)': 987.0,\n",
       " 'flipkartfashionfriday': 17.0,\n",
       " ':d': 524.0,\n",
       " ':p': 106.0,\n",
       " 'influenc': 17.0,\n",
       " ':-)': 553.0,\n",
       " \"here'\": 21.0,\n",
       " 'youth': 15.0,\n",
       " 'bam': 45.0,\n",
       " 'warsaw': 45.0,\n",
       " 'shout': 12.0,\n",
       " ';)': 23.0,\n",
       " 'stat': 52.0,\n",
       " 'arriv': 11.6,\n",
       " 'glad': 14.0,\n",
       " 'blog': 28.0,\n",
       " 'fav': 12.0,\n",
       " 'fantast': 10.0,\n",
       " 'fback': 27.0,\n",
       " 'pleasur': 11.0,\n",
       " '←': 10.0,\n",
       " 'aqui': 10.0}"
      ]
     },
     "execution_count": 24,
     "metadata": {},
     "output_type": "execute_result"
    }
   ],
   "source": [
    "# Test your function; find positive words at or above a threshold\n",
    "get_words_by_threshold(freqs, label=1, threshold=10)"
   ]
  },
  {
   "cell_type": "markdown",
   "metadata": {},
   "source": [
    "Notice the difference between the positive and negative ratios. Emojis like :( and words like 'me' tend to have a negative connotation. Other words like glad, community, arrives, tend to be found in the positive tweets."
   ]
  },
  {
   "cell_type": "markdown",
   "metadata": {},
   "source": [
    "<a name='5'></a>\n",
    "## 5 - Error Analysis\n",
    "\n",
    "In this part you will see some tweets that your model missclassified. Why do you think the missclassifications happened? Were there any assumptions made by your naive bayes model?"
   ]
  },
  {
   "cell_type": "code",
   "execution_count": 25,
   "metadata": {},
   "outputs": [
    {
     "name": "stdout",
     "output_type": "stream",
     "text": [
      "Truth Predicted Tweet\n",
      "1\t0.00\tb'truli later move know queen bee upward bound movingonup'\n",
      "1\t0.00\tb'new report talk burn calori cold work harder warm feel better weather :p'\n",
      "1\t0.00\tb'harri niall 94 harri born ik stupid wanna chang :d'\n"
     ]
    },
    {
     "name": "stdout",
     "output_type": "stream",
     "text": [
      "1\t0.00\tb'park get sunlight'\n",
      "1\t0.00\tb'uff itna miss karhi thi ap :p'\n",
      "0\t1.00\tb'hello info possibl interest jonatha close join beti :( great'\n",
      "0\t1.00\tb'u prob fun david'\n",
      "0\t1.00\tb'pat jay'\n",
      "0\t1.00\tb'sr financi analyst expedia inc bellevu wa financ expediajob job job hire'\n"
     ]
    }
   ],
   "source": [
    "# Some error analysis done for you\n",
    "print('Truth Predicted Tweet')\n",
    "for x, y in zip(test_x, test_y):\n",
    "    y_hat = naive_bayes_predict(x, logprior, loglikelihood)\n",
    "    if y != (np.sign(y_hat) > 0):\n",
    "        print('%d\\t%0.2f\\t%s' % (y, np.sign(y_hat) > 0, ' '.join(\n",
    "            process_tweet(x)).encode('ascii', 'ignore')))"
   ]
  },
  {
   "cell_type": "markdown",
   "metadata": {},
   "source": [
    "<a name='6'></a>\n",
    "## 6 - Predict with your own Tweet\n",
    "\n",
    "In this part you can predict the sentiment of your own tweet."
   ]
  },
  {
   "cell_type": "code",
   "execution_count": 26,
   "metadata": {},
   "outputs": [
    {
     "name": "stdout",
     "output_type": "stream",
     "text": [
      "9.570227756170972\n"
     ]
    }
   ],
   "source": [
    "# Test with your own tweet - feel free to modify `my_tweet`\n",
    "my_tweet = 'I am happy because I am learning :)'\n",
    "\n",
    "p = naive_bayes_predict(my_tweet, logprior, loglikelihood)\n",
    "print(p)"
   ]
  },
  {
   "cell_type": "markdown",
   "metadata": {},
   "source": [
    "Congratulations on completing this assignment. See you next week!"
   ]
  }
 ],
 "metadata": {
  "kernelspec": {
   "display_name": "Python 3 (ipykernel)",
   "language": "python",
   "name": "python3"
  },
  "language_info": {
   "codemirror_mode": {
    "name": "ipython",
    "version": 3
   },
   "file_extension": ".py",
   "mimetype": "text/x-python",
   "name": "python",
   "nbconvert_exporter": "python",
   "pygments_lexer": "ipython3",
   "version": "3.12.1"
  }
 },
 "nbformat": 4,
 "nbformat_minor": 4
}
