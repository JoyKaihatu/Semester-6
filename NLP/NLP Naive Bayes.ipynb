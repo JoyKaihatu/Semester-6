{
 "cells": [
  {
   "cell_type": "code",
   "execution_count": 9,
   "id": "ac24a911-93aa-420e-9d0a-0194100a6e7d",
   "metadata": {},
   "outputs": [
    {
     "name": "stdout",
     "output_type": "stream",
     "text": [
      "False\n"
     ]
    }
   ],
   "source": [
    "testing = {('a',0):12, ('f',0):13, ('c',1):12}\n",
    "\n",
    "r = 'a'\n",
    "\n",
    "print(r in testing.keys())"
   ]
  }
 ],
 "metadata": {
  "kernelspec": {
   "display_name": "Python 3 (ipykernel)",
   "language": "python",
   "name": "python3"
  },
  "language_info": {
   "codemirror_mode": {
    "name": "ipython",
    "version": 3
   },
   "file_extension": ".py",
   "mimetype": "text/x-python",
   "name": "python",
   "nbconvert_exporter": "python",
   "pygments_lexer": "ipython3",
   "version": "3.12.1"
  }
 },
 "nbformat": 4,
 "nbformat_minor": 5
}
